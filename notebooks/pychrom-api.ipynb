{
 "cells": [
  {
   "cell_type": "markdown",
   "metadata": {},
   "source": [
    "# Pychrom - A Python Library for Simulation and Optimization of HPLC\n",
    "\n",
    "Pychrom is a Python library that I'm developing for the simulation and optimization of 1D and 2D [high performance liquid chromatography](https://en.wikipedia.org/wiki/High-performance_liquid_chromatography). This notebook shows some basic functionalities that are included in the current version of the library. I've started developing Pychrom for rapid prototyping of new algorithms and for sharing ideas with other members of the team, as part of the research project [NEXTCHROM](https://citius.usc.es/r/197), in collaboration with the Analytical Chemistry Institute of the University of Santiago de Compostela and [MestreLab Research](http://mestrelab.com).\n",
    "\n",
    "Unfortunately, and due to restrictions of the project, Pychrom is not open-source. If you are interested in software tools  for end-users, please contact MestreLab for more information.\n",
    "\n",
    "![2D HPLC conceptual representation by Agilent](img/2dlc-schema.png)"
   ]
  },
  {
   "cell_type": "code",
   "execution_count": 1,
   "metadata": {
    "collapsed": false
   },
   "outputs": [],
   "source": [
    "import sys\n",
    "sys.path.insert(0, '../src/')\n",
    "\n",
    "from mpl_toolkits.mplot3d import Axes3D\n",
    "import matplotlib.pyplot as plt\n",
    "import numpy as np\n",
    "import pychrom as pyc\n",
    "\n",
    "if ('ggplot' in plt.style.available):\n",
    "    plt.style.use('ggplot')\n",
    "\n",
    "%matplotlib inline"
   ]
  },
  {
   "cell_type": "markdown",
   "metadata": {},
   "source": [
    "## Functions\n",
    "\n",
    "Pychrom includes some classes to define and compose functions. These functions can be used to generate complex gradient programs. This is useful for example to simulate the concentrations of the solvent that is mixed by different HPLC controllers, or to simulate how the pH varies with time.\n",
    "\n"
   ]
  },
  {
   "cell_type": "markdown",
   "metadata": {},
   "source": [
    "### Basics"
   ]
  },
  {
   "cell_type": "code",
   "execution_count": 2,
   "metadata": {
    "collapsed": false
   },
   "outputs": [
    {
     "data": {
      "text/plain": [
       "0.5"
      ]
     },
     "execution_count": 2,
     "metadata": {},
     "output_type": "execute_result"
    }
   ],
   "source": [
    "from pychrom.models.functions import Function, MultiValuedFunction, GradientFunction, GradientProfile, const, linear\n",
    "\n",
    "fun1 = Function(lambda x: (x / (x + 0.5)))\n",
    "fun1(0.5)"
   ]
  },
  {
   "cell_type": "markdown",
   "metadata": {},
   "source": [
    "Functions are equipped with a _plot_ function. By default, functions are evaluated in the [0, 1] domain"
   ]
  },
  {
   "cell_type": "code",
   "execution_count": 3,
   "metadata": {
    "collapsed": false
   },
   "outputs": [
    {
     "data": {
      "text/plain": [
       "<matplotlib.axes._subplots.AxesSubplot at 0x7fc9dd9a6e48>"
      ]
     },
     "execution_count": 3,
     "metadata": {},
     "output_type": "execute_result"
    },
    {
     "data": {
      "image/png": "iVBORw0KGgoAAAANSUhEUgAAAX0AAAEECAYAAADEVORYAAAABHNCSVQICAgIfAhkiAAAAAlwSFlz\nAAALEgAACxIB0t1+/AAAIABJREFUeJzt3XmclWX9//HXdQPjxkFFzRwQUgk0FNzAEhfc0VI09VI0\nK5dcyiVtseVr8CsrLVNStMLIMlP4lCYumbhNhIDgBoqAbLINuaE5gsAw9/X74wyew4TOYeacc5/l\n/Xw8esR9uM+ct5/HzJt77nOf63YhBEREpDpESQcQEZHiUemLiFQRlb6ISBVR6YuIVBGVvohIFVHp\ni4hUkY657OS9HwKMJP2PxBgzu77F338bOBsIQCdgL2BHM3s3v3FFRKQ9Wj3S995HwCjgOKAvMMx7\nv2f2PmZ2g5ntZ2b7A98H6nIpfO/94DalrkCaRYZmkaFZZGgWGe2ZRS6ndwYC88xssZk1AmOBoR+z\n/zDgnhxff3CO+1WDwUkHKCGDkw5QQgYnHaCEDE46QAkZ3NYn5lL63YClWdvLmh/7H977rYAhwL1t\nDSQiIoWT7zdyTwQm6Vy+iEhpyuWN3OVAj6zt7s2PbcqZfMypnebzUIM3bJvZcGB4DhkqnpmBZgFo\nFtk0iwzNIsPM8N5nP1RnZnW5PNe1tuCa974DMBc4ClgBTAOGmdnsFvttCywEupvZBzlmD/X19Tnu\nWtlSqRQNDQ1JxygJmkWGZpGhWWTU1tYCuLY8t9XTO2bWBFwKTABmAWPNbLb3/iLv/YVZu54MPLoZ\nhS8iIkXW6pF+gelIv5mOYjI0iwzNIkOzyCjokb6IiFQOlb6ISBVR6YuIVBGVvohIFVHpi4hUEZW+\niEiZCHETYdlr7foaOS2tLCIixRf++w4snEtYNJew8FVYPB+27QoDx7f5a6r0RURKQFi3FpYsSJf7\nolcJC+fC2jWwW2/cbr2Jhpya/vM2ndv1Oip9EZEEhJVvEhbMgfmz0/+/Yinssitu997QbwDRyV+C\nT+yCc236DNZHUumLiBRYaGqCZa8R5s+GBbMJC2ZDYyPssSeu115EB14APffA1WxR8CwqfRGRPAur\nV6XPxS+YnS761+bB9jvieu0FffcnGnp2QY7ic6HSFxFphxACvPV65ih+/mx463Xo2St9FH/M0PQR\n/TappKMCKn0Rkc0SQoDXlxNefRlenUWYNwuamqDXXumSH3QM7LobrmNp1mtpphIRKREhjqF+ycYl\n37ETrvfe0GcfohOHJXaqpi1U+iIiWdJvui4ivDorXfTzXoFtOqdLvt8AotPPxe3wiaRjtplKX0Sq\nWoibYOkiwuwZhLkvw4I5sF1XXJ+9cQMOxZ19MW67HZKOmTcqfRGpKiEE+M+ydMnPmQlzX4Ztt8ft\n2Y/o0GPgvG/iUtsmHbNgVPoiUvHC22+kC372DMKcl6BjR9ye/XD7H4w762Lcdl2Tjlg0Kn0RqTjh\nvXcJc19qLvmZsOYD3J79YM9+6Wvkd9y5bN54zTeVvoiUvdDYCPNfIcx6njDrRXj7DejdN33K5qgT\nobZH1ZZ8Syp9ESk7H56Xn/UCYdYLMP+VdLH33Y/o7IvTC5N16JB0zJKk0heRshC/30B4dhLhlRcJ\ns54HwPXdn+iQo+GCq0rmE6+lTqUvIiUpxE2waF7zKZsXeK9+CfT6DK7vvumlDT7ZXads2iCn0vfe\nDwFGkr7T1hgzu34T+wwGbgI6AW+a2RF5zCkiVSCsej99FD9zevr/t+2aPpofejap/Q7i/bVrk45Y\n9lotfe99BIwCjgLqgene+/FmNidrn22BW4FjzWy5937HQgUWkcoRQkgvcTDzWcJL02HpIvh0X1y/\nA4lOOWejT766mhpQ6bdbLkf6A4F5ZrYYwHs/FhgKzMna5yzgXjNbDmBmb+U7qIhUhrBuLcx9qbno\nn4UQcP0GEB1/GvTZpyhrylezXEq/G7A0a3sZ6X8IsvUGOnnvnwI6Azeb2Z/zE1FEyl14dyVhxjTC\njGkwb1Z6Fcp9BhBddo0upyyyfL2R2xHYHzgS2AaY4r2fYmbzs3dqPu8/eMO2mZFK6R13gJqaGs2i\nmWaRUc6zaFq+hMZnJ9E4fRJhxVI67nsQnY44no5X/Iio8+b/N5XzLArBez8ia7POzOpyeV4upb8c\n6JG13b35sWzLgLfMbA2wxns/EegPbFT6zaGygw1vaGjIJWfFS6VSaBZpmkVGOc0ixHH6ht4vPkN4\ncSqsWYPb9yDciWfieu9N3LETa4G1AWjDf1M5zaLQUqkUZjaiLc/NpfSnA7289z2BFcCZwLAW+4wH\nbvHedwC2AA4CbmxLIBEpH6GxEebMJLw4NX3qZpsUbt/PEp1/VfrOUTptU3JaLX0za/LeXwpMIHPJ\n5mzv/UVAMLPRZjbHe/8oMBNoAkab2SsFTS4iiQhr1xBmPgvPT05/GrZbT9y+BxF95+e4nWuTjiet\ncCGEJF8/1NfXJ/n6JUO/umZoFhmlMouw5gPCzOmE5ybD7Bdh9z7pFSr3HYjrsn1RMpTKLEpBbW0t\nQJt+jdInckVkk8Ka1YQZ0wnPPQ1zZsIee+EOOBh3ztdxnbskHU/aSKUvIh8Kq1cRZk5LH9HPfSm9\n7MEBg3BfuRy3Teek40keqPRFqlxYuyZ9Df20ifDqy9B773TRn3sFbmsVfaVR6YtUobB+PbzyAuGZ\nielPxe7RBzfgMNx5V+K23ibpeFJAKn2RKhHiOH2jkWkT06dvPtkNN/AwojPOx3XZLul4UiQqfZEK\nFkKApQvTRT/t37D1NriDDif64a9wO+6cdDxJgEpfpAKFlW8SpjxFmFoHjevSRX/FcFy3nklHk4Sp\n9EUqRFi7hvDCFMLkJ2HxAtyBg4i+cmn6Ukt9MlaaqfRFyliIY5j3CmHKE4QXpsLue+IOPRZ36UAt\nUSybpNIXKUPhjRXp0zdTnoQtt8J97kiik8/Bbdc16WhS4lT6ImUirF2bvjH404/BimXpK28u+T70\n2F2nbyRnKn2REhcWLyBMmpC++maPPYmOHgr9DsR17JR0NClDKn2REhRWryJMm0jD5MeJ//su7pBj\niIb/Gtd1p6SjSZlT6YuUiBACLJhD+PeE9Juye/VnyzMv4INP9cZFHZKOJxVCpS+SsLD6fcLkJwkT\nH4WmJtxhxxKd+mVcl+3plEqxRssJSx6p9EUSEpYsJNT9g/Dc07i++xOdfQn07qs3ZaWgVPoiRRQa\nGwnPTyY89TCsfAt32HFEP74Nt21xbkQiotIXKYLw9puEif8kTHoMuvUkOvYU6D8Q10Hn6qW4VPoi\nBRJCgDkziZ98COa9gvvsYKJv/wy3S/eko0kVU+mL5FloXEeYWkd44kEIAXfkF3DnX4Xbcquko4mo\n9EXyJbz3DuGpRwj/egQ+9Wkifx7sta/emJWSotIXaaewdBHhsfGEGc/gBhxK9J2f6xSOlCyVvkgb\nhDiGl54lfmw8vF6PO+IEIv87XOcuSUcT+Vg5lb73fggwEoiAMWZ2fYu/PxwYDyxsfug+M7s2n0FF\nSkFobCRMfYow4e+wxVa4Y4ambyLeUcdPUh5a/U713kfAKOAooB6Y7r0fb2ZzWuw60cxOKkBGkcSF\nD1YTJj5KeHx8+pLLsy+BPvvofL2UnVwOTwYC88xsMYD3fiwwFGhZ+vrul4oT3nuH8PiDhH8/ittr\nX6LLrsH12CPpWCJtlkvpdwOWZm0vI/0PQUuf896/CCwHvmNmr+Qhn0giwhv1hEfvJzw7Kb1u/Q9+\nhdvpk0nHEmm3fJ2IfA7oYWarvffHA/cDvVvu5L0fDAzesG1mpFKpPEUobzU1NZpFsyRn0bRkIWv+\nfhfrX36emqNPYoub7iRKcIkEfV9kaBYb896PyNqsM7O6XJ7nQgitfeHPAiPMbEjz9veA0PLN3BbP\nWQQcYGYrW3n9UF9fn0vOipdKpWjQaopAMrMISxYSPzwO5s/GHXsy7vAhuC23LmqGTdH3RYZmkVFb\
nWwttPKWey5H+dKCX974nsAI4ExiWvYP3fmcze735zwMBl0PhiyQuvDaP+KFxsHg+7rhTcOddhdtC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\n2hOqlISli4j/
fCvR17+P265r0nFERNolrzdG994fAZwLHPIRfz8YGLxh28xIpVL5jJBX8X/foeG2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\nRKSKqPRFRKrI/wczpRxhfD1jOQAAAABJRU5ErkJggg==\n",
      "text/plain": [
       "<matplotlib.figure.Figure at 0x7fca20a77e10>"
      ]
     },
     "metadata": {},
     "output_type": "display_data"
    }
   ],
   "source": [
    "fun1.plot()"
   ]
  },
  {
   "cell_type": "code",
   "execution_count": 4,
   "metadata": {
    "collapsed": false
   },
   "outputs": [
    {
     "data": {
      "text/plain": [
       "<matplotlib.axes._subplots.AxesSubplot at 0x7fc9dd976cc0>"
      ]
     },
     "execution_count": 4,
     "metadata": {},
     "output_type": "execute_result"
    },
    {
     "data": {
      "image/png": "iVBORw0KGgoAAAANSUhEUgAAAXsAAAEECAYAAADJSpQfAAAABHNCSVQICAgIfAhkiAAAAAlwSFlz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\
nFPZ58kc7Sd31l5gLfwfz4Zv1QSkRKSm6zj4PvruL1N2rMBcuVtCLSElS2Ofge3tIfe2vMWefi/nw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\
nJOwPKOxFRIooFmHvDx+EeoW9iEixxCLs6TiEqZ8QugoRkbIVj7BvPwQKexGRoolH2Hcchnp9Q5WI\nSLEED3vf0w3eQ83Y0KWIiJSt4GFPRzSFY8ywVusUEZFhCB/27YehTlM4IiLFFD7sO3RyVkSk2IKH\nvW8/hKlT2IuIFFPwsKddV+KIiBRb+LDvOAQa2YuIFFXwsPft+vSsiEixBQ97Og5rZC8iUmThw779\noObsRUSKLHzYd3ZAUmEvIlJM4cO+uhozenToKkREylr4sK+tC12BiEjZCx/2yfrQFYiIlL3wYa+R\nvYhI0QUPe5NU2IuIFFvwsKdW0zgiIsUWPuw1Zy8iUnQxCHtN44iIFFvwsDc6QSsiUnTBw17TOCIi\nxRc+7DWyFxEpuqp8GllrlwF3E/1xuN85d+cJ2nwVuBY4CtzsnHstrwo0shcRKbqcI3trbQJYDVwD\nLASWW2sXDGlzLTDPOXcesBK4N+8KasYMp14RERmBfKZxlgKbnXPbnXP9wBrguiFtrgO+DeCc+yVQ\nb62dlk8BxphhlCsiIiORT9jPAHZm7e9KHztVm5YTtBERkUDCn6AVEZGiy+cEbQswO2t/ZvrY0Daz\ncrTBWtsENA3uO+dobGzMs9Tyl0wmQ5cQG+qLDPVFhvoiw1q7Kmu32TnXfKr2+YT9r4BzrbVzgN3A\nR4DlQ9o8DnwS+L619lLgsHOubegTpYs5XpC1FufcqqHtKpG1dpX6IqK+yFBfZKgvMkbSFzmncZxz\nA8BtwNPAemCNc26DtXaltfbWdJsngG3W2jeBbwJ/PNziRUSkePK6zt459yQwf8ixbw7Zv62AdYmI\nSAGFPkHbHPj146Q5dAEx0hy6gBhpDl1AjDSHLiBGmof7AOO9L0IdIiISJ6FH9iIicgYo7EVEKkBe\nJ2iLIZ/F1SqBtXYm0VIT04AU8E/Oua+GrSqc9FpMLwG7nHMfCl1PSNbaeuCfgYuIfjc+ll6OpKJY\na/8n8HGiPlgLrHDO9YWt6syx1t4PfBBoc84tSh+bAHwfmAO8BVjnXPupnifIyD6fxdUqyDHgM865\nhcC7gU9WcF8AfBp4I3QRMfEV4Ann3AXAJcCGwPWccdbaRuBTwJJ00FURfdankjxAlJXZPgc865yb\nD/w7cHuuJwk1jZPP4moVwTm3Z3A5aOfcEaL/oStyXaH0u5zfIxrNVjRrbR3wPufcAwDOuWPOuY7A\nZYUyChhvra0CxgGtges5o5xzzwGHhhy+Dngwvf0g8Ae5nidU2OezuFrFsdaeDSwGKu6teto/An8G\n6BIxOAfYb619wFr7irX2Pmvt2NBFnWnOuVbgLmAH0RIsh51zz4atKhamDq5S4JzbA0zN9QCdoI0J\na20t8DDw6fQIv6JYa3+faE7yNcCkfypZFbAE+LpzbgnQRfTWvaJYaxuIRrFzgEag1lp7Y9iqYinn\nAClU2OezuFrFSL89fRj4jnPuh6HrCeS9wIestVuBfwWutNZ+O3BNIe0CdjrnXkrvP0wU/pXmamCr\nc+5geumWR4H3BK4pDtoGvzPEWjsd2JvrAaHC/vjiatbaaqITLo8HqiUOvgW84Zz7SuhCQnHOfd45\nN9s5N5fo9+HfnXMfDV1XKOm36DutteenD11FZZ643gFcaq0dY601RP1QcSeq+e13u48DN6e3/wjI\nOUgMcumlc27AWju4uNrgpZeV+B8Qa+17gZuAtdbaV4nejn0+vR6RVLY/Ab5nrR0NbAVWBK7njHPO\nvWitfRh4FehP394Xtqozy1r7ENHS8JOstTuAO4C/A35grf0YsB2wuZ5HyyWIiFQAnaAVEakACnsR\nkQqgsBcRqQAKexGRCqCwFxGpAAp7EZEKoLAXEakACnsRkQrw/wHh9lVebjH2DQAAAABJRU5ErkJg\ngg==\n",
      "text/plain": [
       "<matplotlib.figure.Figure at 0x7fc9d80df160>"
      ]
     },
     "metadata": {},
     "output_type": "display_data"
    }
   ],
   "source": [
    "fun1.plot(xlim=[0, 10], ylim=[0, 1])"
   ]
  },
  {
   "cell_type": "code",
   "execution_count": 5,
   "metadata": {
    "collapsed": false
   },
   "outputs": [
    {
     "data": {
      "text/plain": [
       "<matplotlib.axes._subplots.AxesSubplot at 0x7fc9d8098e10>"
      ]
     },
     "execution_count": 5,
     "metadata": {},
     "output_type": "execute_result"
    },
    {
     "data": {
      "image/png": "iVBORw0KGgoAAAANSUhEUgAAAX0AAAEECAYAAADEVORYAAAABHNCSVQICAgIfAhkiAAAAAlwSFlz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\
nZujPBl6r29429tgBZtYHnOfud6IbdcgUJHt2s2vFNUSzjib68ysVYF4YWt4JRbtO5K4GrqnbnnDw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\
nlmf7+WVEvUfmXZKISNcq9NCv5dneCNOnK89WJDda3glJYYe+8mxFikTLO6Eo5NAvep6tSKnoQD8o\nhRv6yrMVEemcQg195dmKFJRWd4KRauib2UJgNVAB1rv7ygn2uQ04E/gl8Cfu/g+TKUR5tiIFpYOv\noDRdLDezCrAGOAM4CVhsZic27HMm8Ovu/hvAEuCvJ1NEMvQq8U1fJvovn9TAFykkHeqHIs0Z0gXA\nS+6+1d1HgI1A42Q+F/jvAO7+98AsM0t1F7Rk60+IV11HdP5FCjAXEemwNEN/NvBa3fa2sccOt8/2\nCfaZUPxXA1Qu/KwCzEUKS8s7Icn9RK7ybEUKLoqIH/kWDD6aaxm7pk1jdN++XGsojBV3tvzUNEN/\nOzC3bnvO2GON+/zrJvtgZv1A//5td2f2fz4rZanhq1areZdQGOrFuNx78bVJnaKTjJjZQN3moLsP\npnlemqG/GTjBzI4DXgcWAYsb9nkE+BzwbTP7GPCOu/+s8RuNFXWgMDPD3Qca9ysjMxtQL2rUi3Hq\nxTj1YtxUetF0Td/dR4GlwCbgBWCju28xsyVmdsnYPv8L+KmZvQzcBVzWSjEiItJZqdb03f1/Ax9u\neOyuhu2lbaxLREQ6IO+b2gzm/POLZDDvAgpkMO8CCmQw7wIKZDDvAgpksNUnRonCEURESiPvI30R\nEcmQhr6ISIlk8uGsLG7Y1i2a9cLMLgSuGdscBi519+ezrTIbaV4XY/v9LvB94AJ3fyDDEjOT8nek\nH7gVOAJ4091Py7TIjKT4HfkXwAZqnx/qAW5x9/+WdZ2dZmbrgbOAn7n7Rw6xz6TnZseP9LO4YVu3\nSNML4BXg4+5+CnADcHe2VWYjZS/27/c14LFsK8xOyt+RWcAdwFnufjLwh5kXmoGUr4vPAS+4+78D\nTgNuMbPc7y7QAfdS68OEWp2bWSzvdPSGbV2maS/c/Wl33zm2+TQp72HUhdK8LgAuB+4D3siyuIyl\n6cWFwP3uvh3A3d/KuMaspOlFAuz/mHIVeNvdg7s/g7s/Aew4zC4tzc0shn5Hb9jWZdL0ot6fAfne\n8KRzmvbCzPqA89z9TsK+61ea18U84Ggz+46ZbTazT2dWXbbS9GIN8FtmNgQ8B3who9qKpqW5qRO5\nBWVmpwEXM76+X0arOfi/P+TB38w0YD619duFwHVmdkK+JeXmDOBZd+8DPgrcYWYzc66pa2Qx9Nt2\nw7YApOkFZvYRYB1wjrsf7u1dN0vTi98BNprZT4FPUvvlPiej+rKUphfbgMfc/V13fxv4LnBKRvVl\nKU0vLgYeAHD3nwA/Bd53PqgEWpqbWZz8aNsN2wLQtBdmNhe4H/j02As6VE174e4f2v9vM7sX+Ft3\nfyTTKrOR5nfkYeB2M+sBjgR+D1iVaZXZSNOLrcB/Ap4cW8OeR+0CiBBFHPodbktzs+NH+rph27g0\nvQCuA44G1prZs2b2TE7ldlTKXtQL9qPjKX9HfkztCqYfUjvBv87df5RXzZ2S8nVxA/DvzeyHwP8B\nrnb3n+dTceeY2d9Qu1R5npm9amYXt2Nu6jYMIiIlohO5IiIloqEvIlIiGvoiIiWioS8iUiIa+iIi\nJaKhLyJSIhr6IiIloqEvIlIi/x+WUhV2MDpoLAAAAABJRU5ErkJggg==\n",
      "text/plain": [
       "<matplotlib.figure.Figure at 0x7fca20a779e8>"
      ]
     },
     "metadata": {},
     "output_type": "display_data"
    }
   ],
   "source": [
    "def profile2D(x):\n",
    "    if x < 0.7:\n",
    "        return x\n",
    "    else:\n",
    "        return 0.\n",
    "    \n",
    "prof2df = Function(np.vectorize(profile2D))\n",
    "prof2df.plot()"
   ]
  },
  {
   "cell_type": "markdown",
   "metadata": {},
   "source": [
    "### Composition\n",
    "\n",
    "Functions can be composed to create complex gradients. For this purpose, Function class includes useful methods like _min_, _max_, _abs_, _sum_, etc to easily combine functions. For example, a typical 2DLC gradient profile can be simulated \n",
    "\n",
    "$$ f_{2D}(x) = min(f_1(x), f_2(x)) + f_m(x) \\times \\mid f_1(x) - f_2(x) \\mid$$\n"
   ]
  },
  {
   "cell_type": "code",
   "execution_count": 6,
   "metadata": {
    "collapsed": false
   },
   "outputs": [
    {
     "data": {
      "text/plain": [
       "<matplotlib.axes._subplots.AxesSubplot at 0x7fc9d8075be0>"
      ]
     },
     "execution_count": 6,
     "metadata": {},
     "output_type": "execute_result"
    },
    {
     "data": {
      "image/png": "iVBORw0KGgoAAAANSUhEUgAAAX0AAAEECAYAAADEVORYAAAABHNCSVQICAgIfAhkiAAAAAlwSFlz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\
nWYRuwJMibKaDIsnIjYa24JqFhcUeR7sogzamVIoM+KUUQUveU50rMOAFVE3i6ZveM26O6ctBVegY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\
n8ZU9SLxzUyPzHL0zhu9PJJvt9qhVoj7nCmCNvoXFXkARb5+MFXnmkLO30gPvynLCJiVOoUJnLp8w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\
n68WBVzB74KbrxJy+u5D39JtxGWRd666O6aURmo2Rrl5/Xiv26E3efOrp618BSl1802EABV57YtyV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\n+/dcztwtjb7v+0PP894MfISRZPNBz/
PeCAjf998FfI/neW8C+kAb+L7LWYyFhQliMDB3H6ptFARk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\nMlw8nO5Ld2aW4cQEs65LPQyYO34y/
d3DyQqT09OIWpiZA1BzSrjVKvWgLufEipvBbJXwwuOwfIHp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
IMfbi41VSs95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\
nyCyndMeLKX3fD1qDb2FhsaPYUcmm53kvBV4HGPWCnuedAc4kP/u+j+u6l/0+IQSNxx5m6lm3M608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\nAaIc8Tj2L9xx2c2Ce/
qqOgAEDdt2AJuDhm0icnt+zu+BVhFpBh4D7iy0XMUgiS6ADcBM4BEReV1E\nthZJ3IKSUBdRyrZ0POF3pBGXwbQdt8D/uKruLJbMhSLhfXEvcJGIbAf+CHxHVfcXR+LCISK/wqUq\nLxGRDhG5ZSLsprVhMAzDqCBsIdcwDKOCMKNvGIZRQZjRNwzDqCDM6BuGYVQQZvQNwzAqCDP6hmEY\nFYQZfcMwjArCjL5hGEYF8X+85YwFiiiK2gAAAABJRU5ErkJggg==\n",
      "text/plain": [
       "<matplotlib.figure.Figure at 0x7fc9d80865c0>"
      ]
     },
     "metadata": {},
     "output_type": "display_data"
    }
   ],
   "source": [
    "num_cycles = 50\n",
    "\n",
    "f1 = Function(lambda x: 0.2 + 0.9*x)\n",
    "f2 = Function(lambda x: 0.1 + 0.5*x)\n",
    "f2d = f1.min(f2).add(prof2df.rep(num_cycles).mul(f1.diff(f2).abs())).clip()\n",
    "f2d.plot()"
   ]
  },
  {
   "cell_type": "code",
   "execution_count": 7,
   "metadata": {
    "collapsed": false
   },
   "outputs": [
    {
     "data": {
      "text/plain": [
       "<matplotlib.axes._subplots.AxesSubplot at 0x7fc9d7fb71d0>"
      ]
     },
     "execution_count": 7,
     "metadata": {},
     "output_type": "execute_result"
    },
    {
     "data": {
      "image/png": "iVBORw0KGgoAAAANSUhEUgAAAX0AAAEECAYAAADEVORYAAAABHNCSVQICAgIfAhkiAAAAAlwSFlz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\
nd8xa+nYmTustwJaEallPfwPy9NuRd44Bl43PV9ATgcmdQHcQBH8JDAG/FYbh/3fNoxMEYcejqm7D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\
n9M10yart6VsLo1ypnGt6+gUpm2bg1x5Dbk9dL5Vwchk68a1ytfT1NaPf/y04dkvmsOd5eMduSevr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\nHnYZk0h08i6Wvuv76X7RS+l/
4YtYcW0K36EEQfCI8fFMGIZn2unXjtH/LHAqCIJbgFHgtcDD5glh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\nS4tEP/
06d8495Co5QpyWefSWvAFPPH3b6I8Pg2My0MHa8TRDx+wzMaaPQ1aOsatLGjnyOvCbaPqe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\
nZnv6zz2pDa+1EYk69zTebbEqV+pK+118Dm5NtwJsGfepcejpS3eMMgK5urpm6ul7u/bA2DDe3gN4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\nH0HD8PW/i5ekAAAAAElFTkSuQmCC\n",
      "text/plain": [
       "<matplotlib.figure.Figure at 0x7fc9d8043518>"
      ]
     },
     "metadata": {},
     "output_type": "display_data"
    }
   ],
   "source": [
    "f2d.clipx().shift(const(-0.2)).plot(ylim=[0,1])"
   ]
  },
  {
   "cell_type": "code",
   "execution_count": 8,
   "metadata": {
    "collapsed": false
   },
   "outputs": [
    {
     "data": {
      "text/plain": [
       "<matplotlib.axes._subplots.AxesSubplot at 0x7fc9d7f52fd0>"
      ]
     },
     "execution_count": 8,
     "metadata": {},
     "output_type": "execute_result"
    },
    {
     "data": {
      "image/png": "iVBORw0KGgoAAAANSUhEUgAAAYMAAAEECAYAAADK0VhyAAAABHNCSVQICAgIfAhkiAAAAAlwSFlz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\
nZjXJnBmwrr38MNmw4VmH1I/UNCiS/r6BvA3l+whfcvdHzOwKYCpwTtcNzawJaFq/7O6USqV+Dq8+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\nLhCpVFoWC4C3A1e7+/
weRSj9YsNkNE89Tjx1OtFOo7IOSUQy1O83kN09Ad5tZtsC95jZeHd/out2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\
nlZdJrrkIdtiJ+MzpREOGZh2SiEhdqttiEJ59muTai4k+fBDR4cfoQTIRka1Ql8UgefjXhLk3EB/3\nJaJ9/znrcERE6l5dFYOQdBDuuZ0w/0Hi0y4gGvPWrEMSESmEuikGYdXK8oNka1YTn335hineRERk\n66UqBmZ2CHAFnZPbTO/y+jjgZmBf4Gx3n5l23zTCiy3lB8nGvZPomJP1IJmISB+Lu9vAzGJgNnAw\nsCcw0cy6zgizHJgMzOjFvlsUnvgDySVnEn3kcOJ/O0WFQESkH3RbDIAJwNPu/py7twNzgSOrN3D3\nZe6+AFjX0323JPnlfSQ3ziSedAZx02FpdxMRkR5KUwxGA4uqlhdX1qWxNfsSHphHPPVSonF7pd1F\nRER6IdfXXOKp04mGDs86DBGRwktTDJYA1ZMBjKmsSyP1vmbWBDStX3Z3Ru+6W8qPKb5SScNwg/JQ\nTbnopFx0MrNpVYvN7t6cZr80xWA+sJuZjQWWAscCE7ewffWjwKn3rQTcvH7ZzHD3aSniKzwzm6Zc\nKA/VlItOykWnrclFt8XA3TvM7FRgHp3dQxea2SQguPscMxsFPAKUgMTMpgDj3b1tU/v2JlAREek/\nqe4ZuPvPgHFd1l1f9e8XgLek3VdERPIlTW+irDRnHUCONGcdQE40Zx1AjjRnHUCONGcdQI4093bH\nKITQh3GIiEg9ynPLQEREakTFQEREsn3oLM0gdmY2CzgUWAGc4O5/qG2UtZFiMMDPAGdWFluBU9z9\nT7WNsjbSDm5oZu8Dfgcc4+531TDEmkn5O9IEfBMYDLzk7gfUNMgaSfE7si1wO+VnmwYBl7v7LbWO\nsxbM7EbgCOAFd3/XZrbp0bEzs5ZBmkHszOxQ4O3u/k/AJOC6mgdaAykH9Psb8GF33xu4ALihtlHW\nRtrBDSvbXQL8vLYR1k7K35HtgKuBI9z9ncCnax5oDaT8XnwJ+LO77wMcAFxuZrkeZWEr3Ew5F5vU\nm2NnlpeJ0gxidyRwG4C7PwxsV3mmoWjSDAb4kLu/Wll8iB6M8VRn0g5uOBn4PvBiLYOrsTS5+Azw\nA3dfAuVBI2scY62kyUWg/KwTlb+Xu3vXwTMLwd0fBP6xhU16fOzMshikGcSu6zZLNrFNEfR0QL+T\ngJ/2a0TZ6TYXZtYIfMLdr2XjJ96LJs33YndgBzP7lZnNN7PjahZdbaXJxWxgvJm1AI8BU2oUWx71\n+NipG8h1xswOAE6k8/7BQHQFG//8RS4I3dmG8qRShwKHAF83s4E6qNfBwKPu3gi8G7jazEZmHFPd\nyLIYpBnEbgkbP9nck0Hy6kmqAf3M7F3AHODj7r6lJmI9S5OL9wJzzexZ4GjKv/Qfr1F8tZQmF4uB\nn7v7andfDvwG2LtG8dVSmlycCNwF4O7PAM8CPZpMq0B6fOzM8uZKmkHs7qV8U+hOM9sPeKUy9EXR\ndJsLM9sF+AFwXOWLXlTd5sLdd13/bzO7GbjP3e+taZS1keZ35IfAVWY2CBgCvB+YSfGkycVzwEeB\n31auj+9OueNFUUVsvlXc42NnZi0Dd+8A1g9i92dg7voB8MzsC5VtfgI8a2Z/Ba4H/l9W8fanNLkA\nvg7sAFxjZo+a2e8zCrdfpcxFtcI+Qp/yd+RJyj2q/ki5Y8Ecd38iq5j7S8rvxQXAB8zsj8D9wBnu\n/nI2EfcvM/sO5W7Vu5vZ383sxK09dmo4ChER0Q1kERFRMRAREVQMREQEFQMREUHFQEREUDEQERFU\nDEREBBUDEREB/j9hcdk7mLlmWQAAAABJRU5ErkJggg==\n",
      "text/plain": [
       "<matplotlib.figure.Figure at 0x7fc9d7f5a8d0>"
      ]
     },
     "metadata": {},
     "output_type": "display_data"
    }
   ],
   "source": [
    "# It is easy to select only one specific cycle of the gradient function\n",
    "# using the method select(start, end). This method, together with shift\n",
    "# can be used to obtain the corresponding valve cycle of the 2D dimension\n",
    "# for a given peak\n",
    "\n",
    "f2d.select(0, 1/num_cycles).plot()"
   ]
  },
  {
   "cell_type": "code",
   "execution_count": 9,
   "metadata": {
    "collapsed": false
   },
   "outputs": [
    {
     "data": {
      "text/plain": [
       "<pychrom.models.functions.Function at 0x7fc9d7efaeb8>"
      ]
     },
     "execution_count": 9,
     "metadata": {},
     "output_type": "execute_result"
    },
    {
     "data": {
      "image/png": "iVBORw0KGgoAAAANSUhEUgAAAYMAAAEECAYAAADK0VhyAAAABHNCSVQICAgIfAhkiAAAAAlwSFlz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\nMmBvoAmY6r2/
28xe62S7kcBDHV4iBhrM7JPilCwikm0hBMJDkwmP3Et03Bm4rbdLu6QuJRkZDABe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\
nDSha9SIVKsQx4a+3Ev5nCtGJ5+C21PyA9Kwuw8B7HwGXAXsDTcBU7/3dZvZawWaPmNk9+e23BwxY\n+tsbAw1m9klRK68WDrQ2UXUJ8+cRTxgDixYQnTsGt856aZckVSDJyGAA8LqZTQfw3k8CDgKWhYGZ\nLSjYvh+5AFjKobkJkUTCjLeJrxiB22FX3KHH4mp1JFdKI8lv2ibAewX3Z5ALiOV47wcDI4ANgQMK\nngrAw977NmC8mV3d/XKrkHOaMqgS8T//Tph0Ne6IXxDtNjDtcqTKFO1jh5ndBdzlvd8TuADYJ//U\nHmY2y3u/IblQmGZmT3Rs771vABoKXo+6urpilVe2PsXRu3cvol5rpF1K6nr37l2RvxOhtZWFN11J\neO4f9PvdGGo226LLNpXaF92hvlie935Ywd1GM2tM0i5JGMwEChc92TT/WKfM7Anv/ebe+/XNbI6Z\nzco//qH3/k5yo4rPhUG+4MKiz2vWedQALFm8hPmLlqRdRurq6uqotN+JMPcT4qtGwZp9iM6+mAV9\n+0GCn7ES+6K71Bft6urqMLNh3Wmb5Fj+VGBL7/1m3vvewBHAPYUbeO+3KLi9E9DbzOZ47/t47/vl\nH+8L7Au83J1CRSpNeGMa8QW/xW2zI9HJ5+L69ku7JKliXY4MzKzNe38yMIX2U0unee+PA4KZjQcO\n8d7/GFgCLAR8vvnGwJ3e+5B/r5vMbEpP/CAVa9nZRDq/vFKEEAiNDxDuvYXoJ7/C7bhr2iWJ4EJ2\nZydDU1NT2jWkru3XR7L2pTczPygMKuFwQFiymHDjFYR33yI68WzcRvXdep1K6ItiUV+0q6+vh25+\nctQpn5nndAVyhQgfvk886kxoi4nOvqjbQSDSE3QSs0gJhJefI772Etz3DsPt/QMtKyGZozDIOuc0\nZVDGQhwTHrid0Hg/0fFn4rbeLu2SRDqlMBDpIWHBfOKJY6F5bu7byNbdIO2SRFZIYZB1WpuoLIWZ\n7xKPG4HbdkfccWfganulXZLISikMRIosnvoE4eYrcYcdS/StvdMuRyQRhUHmabKgXIS2NsLkGwjP\nPkl06vm4/l0vKyGSFQqDchCCMiHjwmefEo+/CGprc8tO91s77ZJEVonCIOt0CmLmhbf/l/jKkbjd\n/w/uoCNxUU3aJYmsMoVBOdBFZ5kVP/4Q4a4biX58Eu7ru6ddjki3KQxEuiG0LCHcfBXhzdeIzhiB\n++KmaZcksloUBiKrKHz8Ye600S9sTHTOxbg110q7JJHVpjDIOs0ZFEUIAdpaobUFWvP/thTcbu1w\nu6WF0NnjixYRHn8Qt+9g3D6DtayEVAyFQTkoszmDEMcFO9gWaGmFtvy/yz3esmwHHVpaln9u2Q67\nvc0CB/HChbntl+3M86/R0rFd+2svux1FUNsr/19tJ7fz//bKPe4627ZXLdHxZ+G23DbtbhYpKoVB\n1q3kk2fu027b53ewrSve+Ybldpyf3yl/rk1ra/sn5I473A6fpJftmOMYamqX7VRXtsNd+lj7jnfp\nc7VQk9v5stZaUNuLmn51tLS2Qm0vouXaf36H3dn76iwfkRVTGGRdTQ3zzv8NcVvr53e+ST7t9uq1\n3I55RZ92qe0Fa/aBfrXL72R79SL63GsXtPncTr8X1NT0yOGTNerqWKJ160V6hMIg46IzRtG3xjF/\nyZJOd/ou0ldSiMjqUxhknNtgQ2rq6nD6RCwiPUgfK0VERGEgIiIKAxERQWEgIiIoDEREBIWBiIig\nMBARERQGIiKCwkBERFAYiIgICgMREUFhICIiKAxERASFgYiIoDAQEREUBiIigsJARERI+E1n3vtB\nwFhy4THBzEZ1eP5A4A9ADLQAp5rZk0naiohI+rocGXjvI+AyYD/ga8CR3vttOmz2iJntaGbfAH4G\nXLMKbUVEJGVJDhMNAF43s+lm1gJMAg4q3MDMFhTc7UduhJCorYiIpC/JYaJNgPcK7s8gt5Nfjvd+\nMDAC2BA4YFXaiohIuoo2gWxmd5nZtsBg4IJiva6IiPS8JCODmUD/gvub5h/rlJk94b3f3Hu//qq0\n9d43AA0Fr0N9fX2C8qpDXV1d2iVkgvqhnfqinfqinfd+WMHdRjNrTNIuSRhMBbb03m8GzAKOAI7s\n8OZbmNmb+ds7Ab3NbI73vsu2S+ULXla09x4zG9bZttXGez9MfaF+KKS+aKe+aLc6fdHlYSIzawNO\nBqYArwCTzGya9/447/0v85sd4r1/2Xv/HPBnwK+sbXcKFRGRnpPoOgMzexD47w6PXVVw+0LgwqRt\nRUQkW7J8BXJj2gVkSGPaBWREY9oFZEhj2gVkSGPaBWRIY3cbuhBCEesQEZFylOWRgYiIlIjCQERE\nkk0g95Qki9h57y8F9gfmAz81sxdKW2VpJFgM8CjgzPzdZuAEM/t3aassjaSLG3rvdwWeAg43s8kl\nLLFkEv6NNACXAL2AD81sr5IWWSIJ/kbWBm4kd21TDTDazK4rdZ2l4L2fAHwfmG1mO6xgm1Xad6Y2\nMkiyiJ33fn9gCzPbCjgOuLLkhZZAwgX93gK+Y2Y7krvC++rSVlkaSRc3zG83EniotBWWTsK/kXWA\ny4Hvm9l2wGElL7QEEv5enAS8YmZfB/YCRnvvU/3A24MmkuuLTnVn35nmYaIki9gdBNwAYGb/BNbx\n3m9c2jJLIsligE+b2dz83afJrftUiZIubngKcDvwQSmLK7EkfXEUcIeZzQQws49KXGOpJOmLACy9\nFLkO+NjMWktYY8mY2RPAJyvZZJX3nWmGQWeL2HXcwXXcZmYn21SCJH1R6OfAAz1aUXq67AvvfT0w\n2MzGAa6EtZVakt+LrYH1vfd/895P9d4fU7LqSitJX1wGfNV73wS8CPy6RLVl0SrvOzWBXGa893sB\nx9I+f1CNxrL8z1/JgdCVWmAncseGBwG/895vmW5JqdkPeN7M6oFvAJd77/ulXFPZSDMMkixiNxP4\nchfbVIJEC/p573cAxgMHmtnKhojlLElf7AJM8t6/DRxK7o/+wBLVV0pJ+mIG8JCZLTKzj4HHgR1L\nVF8pJemLY4HJAPm10t4GqvXLtFZ535nm5EqSRezuITcpdKv3fnfgUzObXdoySyLJYoD9gTuAY5Yu\nClihuuyq+cmSAAAA2klEQVQLM9t86W3v/UTgXjO7p6RVlkaSv5G7gT9772uANYDdgDElrbI0kvTF\ndOC7wJP54+NbkzvxolI5VjwqXuV9Z2ojgyQL4JnZ/cDb3vs3gKuAE9OqtyclXAzwd8D6wBXe++e9\n98+kVG6PStgXhSr2EvqEfyOvkTuj6iVyJxaMN7NX06q5pyT8vbgA+Jb3/iXgYeAMM5uTTsU9y3t/\nM7nTqrf23r/rvT92dfedWo5CREQ0gSwiIgoDERFBYSAiIigMREQEhYGIiKAwEBERFAYiIoLCQERE\ngP8PZx12qkp2RPMAAAAASUVORK5CYII=\n",
      "text/plain": [
       "<matplotlib.figure.Figure at 0x7fc9d810bf28>"
      ]
     },
     "metadata": {},
     "output_type": "display_data"
    }
   ],
   "source": [
    "# For example, if a peak elutes at 0.45 * gradient_time, the corresponding\n",
    "# gradient profile for the second dimension can be obtained with:\n",
    "\n",
    "f2d_cycle = f2d.shift(const(0.45)).select(0, 1/num_cycles)\n",
    "f2d_cycle.plot()\n",
    "\n",
    "# Alternatively: \n",
    "\n",
    "f2d.select(0.45, 0.45 + 1/num_cycles)"
   ]
  },
  {
   "cell_type": "code",
   "execution_count": 10,
   "metadata": {
    "collapsed": false
   },
   "outputs": [
    {
     "data": {
      "text/plain": [
       "array([ 0.465     ,  0.48049584,  0.49603601,  0.5116205 ,  0.32710526,\n",
       "        0.32763158,  0.32815789,  0.32868421,  0.32921053,  0.32973684,\n",
       "        0.33774238,  0.35326039,  0.36882271,  0.38442936,  0.40008033,\n",
       "        0.41577562,  0.43151524,  0.44729917,  0.46312742,  0.479     ])"
      ]
     },
     "execution_count": 10,
     "metadata": {},
     "output_type": "execute_result"
    }
   ],
   "source": [
    "f2d_cycle(np.linspace(0, 1, 20))"
   ]
  },
  {
   "cell_type": "markdown",
   "metadata": {},
   "source": [
    "### Multi Valued Functions\n",
    "In a multivalued function with N functions, every input is mapped to N outputs using each of the N functions. Multi valued functions are useful to define complex gradient programs using many different variables, such as % strong solvent, pH, temperature, etc."
   ]
  },
  {
   "cell_type": "code",
   "execution_count": 11,
   "metadata": {
    "collapsed": false
   },
   "outputs": [],
   "source": [
    "mvf = MultiValuedFunction([f1, f2], ['a', 'b'])\n",
    "fval = mvf(np.linspace(0, 1, 5))"
   ]
  },
  {
   "cell_type": "code",
   "execution_count": 12,
   "metadata": {
    "collapsed": false
   },
   "outputs": [
    {
     "data": {
      "text/plain": [
       "[array([ 0.2  ,  0.425,  0.65 ,  0.875,  1.1  ]),\n",
       " array([ 0.1  ,  0.225,  0.35 ,  0.475,  0.6  ])]"
      ]
     },
     "execution_count": 12,
     "metadata": {},
     "output_type": "execute_result"
    }
   ],
   "source": [
    "fval.result"
   ]
  },
  {
   "cell_type": "code",
   "execution_count": 13,
   "metadata": {
    "collapsed": false
   },
   "outputs": [
    {
     "data": {
      "text/plain": [
       "{'a': array([ 0.2  ,  0.425,  0.65 ,  0.875,  1.1  ]),\n",
       " 'b': array([ 0.1  ,  0.225,  0.35 ,  0.475,  0.6  ])}"
      ]
     },
     "execution_count": 13,
     "metadata": {},
     "output_type": "execute_result"
    }
   ],
   "source": [
    "fval.to_dict()"
   ]
  },
  {
   "cell_type": "code",
   "execution_count": 14,
   "metadata": {
    "collapsed": false
   },
   "outputs": [
    {
     "data": {
      "text/plain": [
       "array([[ 0.2  ,  0.425,  0.65 ,  0.875,  1.1  ],\n",
       "       [ 0.1  ,  0.225,  0.35 ,  0.475,  0.6  ]])"
      ]
     },
     "execution_count": 14,
     "metadata": {},
     "output_type": "execute_result"
    }
   ],
   "source": [
    "fval.as_array()"
   ]
  },
  {
   "cell_type": "code",
   "execution_count": 15,
   "metadata": {
    "collapsed": false
   },
   "outputs": [
    {
     "data": {
      "text/plain": [
       "[{'a': 0.20000000000000001, 'b': 0.10000000000000001},\n",
       " {'a': 0.42500000000000004, 'b': 0.22500000000000001},\n",
       " {'a': 0.65000000000000002, 'b': 0.34999999999999998},\n",
       " {'a': 0.875, 'b': 0.47499999999999998},\n",
       " {'a': 1.1000000000000001, 'b': 0.59999999999999998}]"
      ]
     },
     "execution_count": 15,
     "metadata": {},
     "output_type": "execute_result"
    }
   ],
   "source": [
    "list(fval.values())"
   ]
  },
  {
   "cell_type": "code",
   "execution_count": 16,
   "metadata": {
    "collapsed": false
   },
   "outputs": [
    {
     "data": {
      "image/png": "iVBORw0KGgoAAAANSUhEUgAAAX0AAAEECAYAAADEVORYAAAABHNCSVQICAgIfAhkiAAAAAlwSFlz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\
nU61Wp100+pbNL1N7y+YXUkorgWpE3DG65q+AFcB+4M6IWJPh9avDw8MNF99NynIUk8VkvXjTkf37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\
nWxfI0gtSSmcBdwBXRMRUf951siy9OBe4P6X0LPBRRn64ryioviJl6cVm4EcR8XpE/Bb4J+BdBdVX\npCy9WAF8FyAingGeBd40DyqBhnKziOFHbjds6wLT9iKltBj4DvCJ0R26W03bi4h4+9h/p5TuBr4X\nEQ8VWmUxsvyMPAisSSnNAY4A3g38TaFVFiNLL54D3g/8y+g57NMYeQNEN+ph8r9wG8rNph/pe8O2\nmiy9AG4E5gFfTSltSCn9W4vKbaqMvajXtZeOZ/wZeYKRdzD9nJEB/x0R8R+tqrlZMu4XNwN/nFL6\nOfAPwF9HxO9aU3HzpJTuY+StyqellJ5PKa3IIze9DYMklYiDXEkqEUNfkkrE0JekEjH0JalEDH1J\nKhFDX5JKxNCXpBIx9CWpRP4TR3E88hoszPAAAAAASUVORK5CYII=\n",
      "text/plain": [
       "<matplotlib.figure.Figure at 0x7fc9d7eaaa20>"
      ]
     },
     "metadata": {},
     "output_type": "display_data"
    }
   ],
   "source": [
    "mvf.plot()"
   ]
  },
  {
   "cell_type": "markdown",
   "metadata": {},
   "source": [
    "### Performance\n",
    "\n",
    "One of the problems of the composed functions is that they add an extra overhead in the evaluation, since each input is evaluated through a chain of function calls. For example, let's measure how takes long it takes to evaluate one function for 1000 input values:"
   ]
  },
  {
   "cell_type": "code",
   "execution_count": 17,
   "metadata": {
    "collapsed": false
   },
   "outputs": [
    {
     "name": "stdout",
     "output_type": "stream",
     "text": [
      "10 loops, best of 3: 47.9 ms per loop\n"
     ]
    }
   ],
   "source": [
    "%%timeit\n",
    "for i in range(1000):\n",
    "    f2d(i/1000)"
   ]
  },
  {
   "cell_type": "markdown",
   "metadata": {},
   "source": [
    "In those cases, the evaluation of functions can be accelerated using numpy arrays:"
   ]
  },
  {
   "cell_type": "code",
   "execution_count": 18,
   "metadata": {
    "collapsed": false
   },
   "outputs": [
    {
     "name": "stdout",
     "output_type": "stream",
     "text": [
      "1000 loops, best of 3: 280 µs per loop\n"
     ]
    }
   ],
   "source": [
    "%timeit f2d(np.linspace(0, 1, 1000))"
   ]
  },
  {
   "cell_type": "code",
   "execution_count": 19,
   "metadata": {
    "collapsed": false
   },
   "outputs": [
    {
     "name": "stdout",
     "output_type": "stream",
     "text": [
      "10000 loops, best of 3: 38.2 µs per loop\n"
     ]
    }
   ],
   "source": [
    "%timeit mvf(np.linspace(0, 1, 1000)).as_array()"
   ]
  },
  {
   "cell_type": "code",
   "execution_count": 20,
   "metadata": {
    "collapsed": false
   },
   "outputs": [
    {
     "name": "stdout",
     "output_type": "stream",
     "text": [
      "The slowest run took 26.05 times longer than the fastest. This could mean that an intermediate result is being cached.\n",
      "10000 loops, best of 3: 32.7 µs per loop\n"
     ]
    }
   ],
   "source": [
    "%timeit mvf(np.linspace(0, 1, 1000)).to_dict()"
   ]
  },
  {
   "cell_type": "code",
   "execution_count": 21,
   "metadata": {
    "collapsed": false
   },
   "outputs": [
    {
     "name": "stdout",
     "output_type": "stream",
     "text": [
      "1000 loops, best of 3: 1.23 ms per loop\n"
     ]
    }
   ],
   "source": [
    "%timeit list(mvf(np.linspace(0, 1, 1000)).values())"
   ]
  },
  {
   "cell_type": "markdown",
   "metadata": {},
   "source": [
    "### Example"
   ]
  },
  {
   "cell_type": "code",
   "execution_count": 22,
   "metadata": {
    "collapsed": false
   },
   "outputs": [
    {
     "data": {
      "text/plain": [
       "[{'phi': 0.050000000000000003, 'temperature': 80.0},\n",
       " {'phi': 0.14999999999999997, 'temperature': 80.0},\n",
       " {'phi': 0.24999999999999994, 'temperature': 80.0},\n",
       " {'phi': 0.34999999999999992, 'temperature': 80.0},\n",
       " {'phi': 0.4499999999999999, 'temperature': 80.0},\n",
       " {'phi': 0.55000000000000004, 'temperature': 80.0},\n",
       " {'phi': 0.64999999999999991, 'temperature': 80.0},\n",
       " {'phi': 0.74999999999999989, 'temperature': 80.0},\n",
       " {'phi': 0.84999999999999987, 'temperature': 80.0},\n",
       " {'phi': 0.94999999999999996, 'temperature': 80.0}]"
      ]
     },
     "execution_count": 22,
     "metadata": {},
     "output_type": "execute_result"
    }
   ],
   "source": [
    "profile_mvf = MultiValuedFunction([linear(0.05, 0.95), const(80)], ['phi', 'temperature'])\n",
    "list(profile_mvf(np.linspace(0, 1, 10)).values())"
   ]
  },
  {
   "cell_type": "markdown",
   "metadata": {},
   "source": [
    "## Data processing\n",
    "\n",
    "Datasets for each column/controller can be loaded from xls files. Each dataset contains a set of gradient experiments that are used to build a model for each peak based on the Linear Strength Solvent (LSS) theory."
   ]
  },
  {
   "cell_type": "code",
   "execution_count": 23,
   "metadata": {
    "collapsed": false
   },
   "outputs": [
    {
     "data": {
      "text/html": [
       "<div>\n",
       "<table border=\"1\" class=\"dataframe\">\n",
       "  <thead>\n",
       "    <tr style=\"text-align: right;\">\n",
       "      <th></th>\n",
       "      <th>Run_A1</th>\n",
       "      <th>Run_A2</th>\n",
       "      <th>Run_B1</th>\n",
       "      <th>Run_B2</th>\n",
       "      <th>Run_C1</th>\n",
       "      <th>Run_C2</th>\n",
       "      <th>Run_D1</th>\n",
       "      <th>Run_D2</th>\n",
       "    </tr>\n",
       "  </thead>\n",
       "  <tbody>\n",
       "    <tr>\n",
       "      <th>initial_modifier</th>\n",
       "      <td>31</td>\n",
       "      <td>31</td>\n",
       "      <td>31</td>\n",
       "      <td>31</td>\n",
       "      <td>31</td>\n",
       "      <td>31</td>\n",
       "      <td>31</td>\n",
       "      <td>31</td>\n",
       "    </tr>\n",
       "    <tr>\n",
       "      <th>final_modifier</th>\n",
       "      <td>100</td>\n",
       "      <td>100</td>\n",
       "      <td>100</td>\n",
       "      <td>100</td>\n",
       "      <td>100</td>\n",
       "      <td>100</td>\n",
       "      <td>100</td>\n",
       "      <td>100</td>\n",
       "    </tr>\n",
       "    <tr>\n",
       "      <th>gradient_time</th>\n",
       "      <td>15</td>\n",
       "      <td>45</td>\n",
       "      <td>15</td>\n",
       "      <td>45</td>\n",
       "      <td>15</td>\n",
       "      <td>45</td>\n",
       "      <td>15</td>\n",
       "      <td>45</td>\n",
       "    </tr>\n",
       "    <tr>\n",
       "      <th>temperature</th>\n",
       "      <td>80</td>\n",
       "      <td>80</td>\n",
       "      <td>92.5</td>\n",
       "      <td>92.5</td>\n",
       "      <td>105</td>\n",
       "      <td>105</td>\n",
       "      <td>99</td>\n",
       "      <td>86</td>\n",
       "    </tr>\n",
       "    <tr>\n",
       "      <th>buffer_ph</th>\n",
       "      <td>2.5</td>\n",
       "      <td>2.5</td>\n",
       "      <td>2.5</td>\n",
       "      <td>2.5</td>\n",
       "      <td>2.5</td>\n",
       "      <td>2.5</td>\n",
       "      <td>2.5</td>\n",
       "      <td>2.5</td>\n",
       "    </tr>\n",
       "    <tr>\n",
       "      <th>buffer_concentration</th>\n",
       "      <td>5</td>\n",
       "      <td>5</td>\n",
       "      <td>5</td>\n",
       "      <td>5</td>\n",
       "      <td>5</td>\n",
       "      <td>5</td>\n",
       "      <td>5</td>\n",
       "      <td>5</td>\n",
       "    </tr>\n",
       "    <tr>\n",
       "      <th>flow_rate</th>\n",
       "      <td>0.5</td>\n",
       "      <td>0.5</td>\n",
       "      <td>0.5</td>\n",
       "      <td>0.5</td>\n",
       "      <td>0.5</td>\n",
       "      <td>0.5</td>\n",
       "      <td>0.5</td>\n",
       "      <td>0.5</td>\n",
       "    </tr>\n",
       "    <tr>\n",
       "      <th>strong_solvent</th>\n",
       "      <td>100</td>\n",
       "      <td>100</td>\n",
       "      <td>100</td>\n",
       "      <td>100</td>\n",
       "      <td>100</td>\n",
       "      <td>100</td>\n",
       "      <td>100</td>\n",
       "      <td>100</td>\n",
       "    </tr>\n",
       "    <tr>\n",
       "      <th>runtype</th>\n",
       "      <td>d</td>\n",
       "      <td>d</td>\n",
       "      <td>d</td>\n",
       "      <td>d</td>\n",
       "      <td>d</td>\n",
       "      <td>d</td>\n",
       "      <td>v</td>\n",
       "      <td>v</td>\n",
       "    </tr>\n",
       "    <tr>\n",
       "      <th>Veratric acid</th>\n",
       "      <td>5.349</td>\n",
       "      <td>6.727</td>\n",
       "      <td>4.445</td>\n",
       "      <td>5.495</td>\n",
       "      <td>4.016</td>\n",
       "      <td>4.741</td>\n",
       "      <td>4.3</td>\n",
       "      <td>6.439</td>\n",
       "    </tr>\n",
       "    <tr>\n",
       "      <th>Scopoletin</th>\n",
       "      <td>12.298</td>\n",
       "      <td>18.691</td>\n",
       "      <td>10.433</td>\n",
       "      <td>15.632</td>\n",
       "      <td>9.479</td>\n",
       "      <td>13.717</td>\n",
       "      <td>10.094</td>\n",
       "      <td>17.64</td>\n",
       "    </tr>\n",
       "    <tr>\n",
       "      <th>o-Coumaric acid</th>\n",
       "      <td>5.415</td>\n",
       "      <td>7.509</td>\n",
       "      <td>4.703</td>\n",
       "      <td>5.955</td>\n",
       "      <td>4.153</td>\n",
       "      <td>5.151</td>\n",
       "      <td>4.448</td>\n",
       "      <td>6.88</td>\n",
       "    </tr>\n",
       "    <tr>\n",
       "      <th>o-Vanillin</th>\n",
       "      <td>4.574</td>\n",
       "      <td>5.809</td>\n",
       "      <td>3.953</td>\n",
       "      <td>4.63</td>\n",
       "      <td>3.438</td>\n",
       "      <td>3.889</td>\n",
       "      <td>3.708</td>\n",
       "      <td>5.21</td>\n",
       "    </tr>\n",
       "    <tr>\n",
       "      <th>4-Methoxybenzaldehyde</th>\n",
       "      <td>3.919</td>\n",
       "      <td>4.834</td>\n",
       "      <td>3.41</td>\n",
       "      <td>3.881</td>\n",
       "      <td>2.986</td>\n",
       "      <td>3.284</td>\n",
       "      <td>3.213</td>\n",
       "      <td>4.327</td>\n",
       "    </tr>\n",
       "    <tr>\n",
       "      <th>Vanillin</th>\n",
       "      <td>3.469</td>\n",
       "      <td>4.085</td>\n",
       "      <td>3.038</td>\n",
       "      <td>3.348</td>\n",
       "      <td>2.67</td>\n",
       "      <td>2.697</td>\n",
       "      <td>2.852</td>\n",
       "      <td>3.717</td>\n",
       "    </tr>\n",
       "    <tr>\n",
       "      <th>Syringaldehyde</th>\n",
       "      <td>6.118</td>\n",
       "      <td>8.424</td>\n",
       "      <td>5.441</td>\n",
       "      <td>7.018</td>\n",
       "      <td>4.84</td>\n",
       "      <td>6.084</td>\n",
       "      <td>5.136</td>\n",
       "      <td>7.733</td>\n",
       "    </tr>\n",
       "    <tr>\n",
       "      <th>m-Coumaric acid</th>\n",
       "      <td>5.159</td>\n",
       "      <td>7.041</td>\n",
       "      <td>4.517</td>\n",
       "      <td>5.638</td>\n",
       "      <td>3.988</td>\n",
       "      <td>4.915</td>\n",
       "      <td>4.263</td>\n",
       "      <td>6.448</td>\n",
       "    </tr>\n",
       "    <tr>\n",
       "      <th>Syringic acid</th>\n",
       "      <td>5.125</td>\n",
       "      <td>6.739</td>\n",
       "      <td>4.566</td>\n",
       "      <td>5.663</td>\n",
       "      <td>4.086</td>\n",
       "      <td>4.961</td>\n",
       "      <td>4.325</td>\n",
       "      <td>6.332</td>\n",
       "    </tr>\n",
       "    <tr>\n",
       "      <th>(E)-p-coumaric acid</th>\n",
       "      <td>5.07</td>\n",
       "      <td>6.788</td>\n",
       "      <td>4.463</td>\n",
       "      <td>5.632</td>\n",
       "      <td>3.967</td>\n",
       "      <td>4.809</td>\n",
       "      <td>4.235</td>\n",
       "      <td>6.232</td>\n",
       "    </tr>\n",
       "    <tr>\n",
       "      <th>Sinapinic acid</th>\n",
       "      <td>13.634</td>\n",
       "      <td>21.781</td>\n",
       "      <td>12.015</td>\n",
       "      <td>18.808</td>\n",
       "      <td>10.86</td>\n",
       "      <td>18.11</td>\n",
       "      <td>11.362</td>\n",
       "      <td>20.328</td>\n",
       "    </tr>\n",
       "  </tbody>\n",
       "</table>\n",
       "</div>"
      ],
      "text/plain": [
       "                       Run_A1  Run_A2  Run_B1  Run_B2 Run_C1  Run_C2  Run_D1  \\\n",
       "initial_modifier           31      31      31      31     31      31      31   \n",
       "final_modifier            100     100     100     100    100     100     100   \n",
       "gradient_time              15      45      15      45     15      45      15   \n",
       "temperature                80      80    92.5    92.5    105     105      99   \n",
       "buffer_ph                 2.5     2.5     2.5     2.5    2.5     2.5     2.5   \n",
       "buffer_concentration        5       5       5       5      5       5       5   \n",
       "flow_rate                 0.5     0.5     0.5     0.5    0.5     0.5     0.5   \n",
       "strong_solvent            100     100     100     100    100     100     100   \n",
       "runtype                     d       d       d       d      d       d       v   \n",
       "Veratric acid           5.349   6.727   4.445   5.495  4.016   4.741     4.3   \n",
       "Scopoletin             12.298  18.691  10.433  15.632  9.479  13.717  10.094   \n",
       "o-Coumaric acid         5.415   7.509   4.703   5.955  4.153   5.151   4.448   \n",
       "o-Vanillin              4.574   5.809   3.953    4.63  3.438   3.889   3.708   \n",
       "4-Methoxybenzaldehyde   3.919   4.834    3.41   3.881  2.986   3.284   3.213   \n",
       "Vanillin                3.469   4.085   3.038   3.348   2.67   2.697   2.852   \n",
       "Syringaldehyde          6.118   8.424   5.441   7.018   4.84   6.084   5.136   \n",
       "m-Coumaric acid         5.159   7.041   4.517   5.638  3.988   4.915   4.263   \n",
       "Syringic acid           5.125   6.739   4.566   5.663  4.086   4.961   4.325   \n",
       "(E)-p-coumaric acid      5.07   6.788   4.463   5.632  3.967   4.809   4.235   \n",
       "Sinapinic acid         13.634  21.781  12.015  18.808  10.86   18.11  11.362   \n",
       "\n",
       "                       Run_D2  \n",
       "initial_modifier           31  \n",
       "final_modifier            100  \n",
       "gradient_time              45  \n",
       "temperature                86  \n",
       "buffer_ph                 2.5  \n",
       "buffer_concentration        5  \n",
       "flow_rate                 0.5  \n",
       "strong_solvent            100  \n",
       "runtype                     v  \n",
       "Veratric acid           6.439  \n",
       "Scopoletin              17.64  \n",
       "o-Coumaric acid          6.88  \n",
       "o-Vanillin               5.21  \n",
       "4-Methoxybenzaldehyde   4.327  \n",
       "Vanillin                3.717  \n",
       "Syringaldehyde          7.733  \n",
       "m-Coumaric acid         6.448  \n",
       "Syringic acid           6.332  \n",
       "(E)-p-coumaric acid     6.232  \n",
       "Sinapinic acid         20.328  "
      ]
     },
     "execution_count": 23,
     "metadata": {},
     "output_type": "execute_result"
    }
   ],
   "source": [
    "import pandas as pd\n",
    "df_dataset = pd.read_excel('datasets/small_dataset_with_temperature.xls')\n",
    "df_dataset.dropna(axis=1)"
   ]
  },
  {
   "cell_type": "code",
   "execution_count": 24,
   "metadata": {
    "collapsed": false
   },
   "outputs": [
    {
     "data": {
      "text/plain": [
       "dict_keys(['m-Coumaric acid', 'Syringaldehyde', 'Sinapinic acid', '4-Methoxybenzaldehyde', 'o-Coumaric acid', 'Scopoletin', '(E)-p-coumaric acid', 'Syringic acid', 'Veratric acid', 'Vanillin', 'o-Vanillin'])"
      ]
     },
     "execution_count": 24,
     "metadata": {},
     "output_type": "execute_result"
    }
   ],
   "source": [
    "from pychrom.datasets.peak_tracking import load_dataset\n",
    "\n",
    "example_dataset = load_dataset('datasets/small_dataset_with_temperature.xls')\n",
    "example_dataset.peaks"
   ]
  },
  {
   "cell_type": "code",
   "execution_count": 25,
   "metadata": {
    "collapsed": false
   },
   "outputs": [
    {
     "data": {
      "text/plain": [
       "(['temperature'], [[80], [92.5], [105]])"
      ]
     },
     "execution_count": 25,
     "metadata": {},
     "output_type": "execute_result"
    }
   ],
   "source": [
    "example_dataset.feature_labels, example_dataset.feature_values"
   ]
  },
  {
   "cell_type": "code",
   "execution_count": 26,
   "metadata": {
    "collapsed": false
   },
   "outputs": [
    {
     "data": {
      "text/plain": [
       "[(Run_A1, Run_A2), (Run_B1, Run_B2), (Run_C1, Run_C2)]"
      ]
     },
     "execution_count": 26,
     "metadata": {},
     "output_type": "execute_result"
    }
   ],
   "source": [
    "example_dataset.paired_training_runs"
   ]
  },
  {
   "cell_type": "code",
   "execution_count": 27,
   "metadata": {
    "collapsed": false
   },
   "outputs": [
    {
     "data": {
      "text/plain": [
       "{'(E)-p-coumaric acid': 5.07,\n",
       " '4-Methoxybenzaldehyde': 3.919,\n",
       " 'Scopoletin': 12.298,\n",
       " 'Sinapinic acid': 13.634,\n",
       " 'Syringaldehyde': 6.118,\n",
       " 'Syringic acid': 5.125,\n",
       " 'Vanillin': 3.469,\n",
       " 'Veratric acid': 5.349,\n",
       " 'm-Coumaric acid': 5.159,\n",
       " 'o-Coumaric acid': 5.415,\n",
       " 'o-Vanillin': 4.574}"
      ]
     },
     "execution_count": 27,
     "metadata": {},
     "output_type": "execute_result"
    }
   ],
   "source": [
    "example_dataset.runs[0].retentions"
   ]
  },
  {
   "cell_type": "markdown",
   "metadata": {},
   "source": [
    "## Retention models\n",
    "\n",
    "Retention models for each analyte can be calculated from a set of gradient runs with fixed experimental conditions (same instrumentation, temperature, pH, solvent, etc). The list of available linear gradient runs with same conditions can be accessed with __dataset.paired_training_runs__"
   ]
  },
  {
   "cell_type": "code",
   "execution_count": 52,
   "metadata": {
    "collapsed": true
   },
   "outputs": [],
   "source": [
    "column = pyc.COLUMN_HYPERCARB\n",
    "controller = pyc.CONTROLLER_AGILENT_1290_INFII\n",
    "dead_volume = column.dead_volume\n",
    "dwell_volume = controller.delay_volume\n",
    "num_steps = 20"
   ]
  },
  {
   "cell_type": "code",
   "execution_count": 53,
   "metadata": {
    "collapsed": false
   },
   "outputs": [
    {
     "data": {
      "text/plain": [
       "LSS(logkw=2.1878081413340698, S=1.2460461922202866)"
      ]
     },
     "execution_count": 53,
     "metadata": {},
     "output_type": "execute_result"
    }
   ],
   "source": [
    "from pychrom.sim.gradient_elution import (find_peak_lss_parameters, simulate_stepwise_linear_gradient, \n",
    "                                          find_lss_peaks_paired_runs)\n",
    "\n",
    "lss_model = find_peak_lss_parameters('Scopoletin', example_dataset.paired_training_runs[0], \n",
    "                                     dead_volume, dwell_volume, num_steps)\n",
    "lss_model"
   ]
  },
  {
   "cell_type": "code",
   "execution_count": 54,
   "metadata": {
    "collapsed": false
   },
   "outputs": [
    {
     "data": {
      "text/plain": [
       "12.298188158012554"
      ]
     },
     "execution_count": 54,
     "metadata": {},
     "output_type": "execute_result"
    }
   ],
   "source": [
    "retention_time, last_k = simulate_stepwise_linear_gradient(lss_model, example_dataset.runs[0], \n",
    "                                                           dead_volume, dwell_volume, num_steps)\n",
    "retention_time"
   ]
  },
  {
   "cell_type": "code",
   "execution_count": 55,
   "metadata": {
    "collapsed": false
   },
   "outputs": [
    {
     "data": {
      "text/plain": [
       "[{'(E)-p-coumaric acid': LSS(logkw=2.0678801272941336, S=2.6082328360899023),\n",
       "  '4-Methoxybenzaldehyde': LSS(logkw=1.904933984921946, S=2.7246145176127285),\n",
       "  'Scopoletin': LSS(logkw=2.1878081413340698, S=1.2460461922202866),\n",
       "  'Sinapinic acid': LSS(logkw=2.309566023284488, S=1.2825659240319707),\n",
       "  'Syringaldehyde': LSS(logkw=2.066002843123554, S=2.2227975336052923),\n",
       "  'Syringic acid': LSS(logkw=1.9914997246709392, S=2.397205196501882),\n",
       "  'Vanillin': LSS(logkw=1.7809960974075725, S=2.6270736081352792),\n",
       "  'Veratric acid': LSS(logkw=1.8086669167149743, S=1.864134603755756),\n",
       "  'm-Coumaric acid': LSS(logkw=2.130334607389139, S=2.727446190988821),\n",
       "  'o-Coumaric acid': LSS(logkw=2.1400294452689304, S=2.647670836010281),\n",
       "  'o-Vanillin': LSS(logkw=1.928481814239558, S=2.4719513982324317)},\n",
       " {'(E)-p-coumaric acid': LSS(logkw=1.9051661444864778, S=2.4589723205844836),\n",
       "  '4-Methoxybenzaldehyde': LSS(logkw=1.5908120157490935, S=2.120812428812762),\n",
       "  'Scopoletin': LSS(logkw=2.165585313784171, S=1.4614363615837576),\n",
       "  'Sinapinic acid': LSS(logkw=2.260784975668165, S=1.3985391690914164),\n",
       "  'Syringaldehyde': LSS(logkw=1.8834302558241958, S=2.014438327805255),\n",
       "  'Syringic acid': LSS(logkw=1.8227336243197079, S=2.2000183177735337),\n",
       "  'Vanillin': LSS(logkw=1.4605558405696892, S=1.9693811420852834),\n",
       "  'Veratric acid': LSS(logkw=1.8103638351922289, S=2.2175366753008774),\n",
       "  'm-Coumaric acid': LSS(logkw=1.854069699436646, S=2.3027463783090645),\n",
       "  'o-Coumaric acid': LSS(logkw=1.8920109357026487, S=2.3178341069694826),\n",
       "  'o-Vanillin': LSS(logkw=1.6497993074242536, S=2.008830792585636)},\n",
       " {'(E)-p-coumaric acid': LSS(logkw=1.805718606996038, S=2.4277583949994206),\n",
       "  '4-Methoxybenzaldehyde': LSS(logkw=1.4428264586950634, S=1.9476681684788426),\n",
       "  'Scopoletin': LSS(logkw=2.084712940157216, S=1.4687970695138524),\n",
       "  'Sinapinic acid': LSS(logkw=2.4578793255904046, S=1.8904144415608113),\n",
       "  'Syringaldehyde': LSS(logkw=1.8443949257033045, S=2.1380401376402767),\n",
       "  'Syringic acid': LSS(logkw=1.7791800128512698, S=2.2954197505212353),\n",
       "  'Vanillin': LSS(logkw=0.8129708141336673, S=0.25438316525313254),\n",
       "  'Veratric acid': LSS(logkw=1.6713728263812038, S=2.036899623117599),\n",
       "  'm-Coumaric acid': LSS(logkw=1.8748751123490726, S=2.6047497217241364),\n",
       "  'o-Coumaric acid': LSS(logkw=1.853644908992949, S=2.4631671877503614),\n",
       "  'o-Vanillin': LSS(logkw=1.5498655474962417, S=1.9888079995213022)}]"
      ]
     },
     "execution_count": 55,
     "metadata": {},
     "output_type": "execute_result"
    }
   ],
   "source": [
    "list_models = find_lss_peaks_paired_runs(example_dataset.paired_training_runs, dead_volume, dwell_volume, num_steps)\n",
    "list_models"
   ]
  },
  {
   "cell_type": "code",
   "execution_count": 56,
   "metadata": {
    "collapsed": false
   },
   "outputs": [
    {
     "data": {
      "text/plain": [
       "<matplotlib.legend.Legend at 0x7fc9cddef240>"
      ]
     },
     "execution_count": 56,
     "metadata": {},
     "output_type": "execute_result"
    },
    {
     "data": {
      "image/png": "iVBORw0KGgoAAAANSUhEUgAAAxQAAAGfCAYAAADGa5SjAAAABHNCSVQICAgIfAhkiAAAAAlwSFlz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\nzMvPz4/
Y2FiCg4PZvn272g2z8rD5u104txmFgYExAAYGxji3GcXm77R/Lqq0aRgaGtK9e3f27t0r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\nN2/
exNnZmZo1a9K+fXvmzJkjH1N3794t8L3lqu7du8eoUaNYtWoVdevWVVtXWL1VpaOjw0cffYSf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\nW1tbWrduzf/
+9z8CAwNp3rw5TZo0Yc+ePXLcwq4TuXnt2rULJycnPvnkk3z5F7YNqu7evUufPn1o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\
n3bqpVZbSPGBas2ZNtUZe3rtX3t7efPjhh1y+fJnIyEgGDhyo8VV/tWrV4tmzZ/IQOCgbWLnMzMxw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\
nNoMHD8bS0pKQkBAuX76Mq6urxm3V1dVl7ty5hIeHc+jQIc6fP8/3338PQHJyMv369cPZ2ZmrV69y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\nZp0w/uOVSqkfjT7zu4B/
vt0XiQTYq4B7lFIbhNaQgDAo/HnGmFdsdw1BEIRJQWIoBEG46THGvJPw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\
nQG4mMXFU6RM5O8wHXyhMsb6ub9iYuiInQYgEwQgrzwgXsyAwtNugA50oZPqtQ5GFJ0H4GMOwkBkh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\nY2MNHr8QBYNfRP/
tn4dCo3IVyvPduhp6YSl0pVp4GsyXegFqRodxGzGx0bFshPU2TE9kDKTA1U5R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\nMJaF0s3IbSqh3kZf3MZAvQ2nvC9xG0dp/
oTdIXM33sj8jS8iKCYHERSTx5ERFLtBXK7G86YYaMPa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\
nN21CYTEsWkgUMUNiZsSxvjZjsOwU9WazT8x0BE47Qeh09nvHNJaBDIaMMhRsKDpQsKCYUkxbYduU\nDdNWuJ6yDHkL8sqQsyCrDDllUITSomkUTRRtBW3AV+ADWoFvgVEGrUzXmoKtUUqDpVGWwVIBjh1a\nghwVWYE6FqGuVSjAUpFlyIRrGLAEEYDpWIiCgf2k47rf1a1PuOxFDCVYeaJrGBWajDLZHI16C4MC\nozCms7bA0GvXnXX0O6ZVeFxHP1hjQJvEh+DOA7PZwQNz7+F662sltw0/rJutzk98iB9sD7b5zIQ2\npcCyQpFoqXCeLKt/UdY2bXZi+5v/4pM8v5zhDzbXIe/wSx//WxBBMfaIoJg8boigSPygKFB7UGhU\nq1Xy+fxQIHipVLquyt3NZnNIZFQqFdbW1piamkoUG/l8fmysGiIo9peDdrk6avNn2m24+ngsRqMX\nswGmT2D0rBonUZHL4f33388rX/0mTp2ZZy7TZLmZ4dK5a9zz8/+R5zznOYf75faZ/Zy7uBDytaEd\naIJA0w4CAl/jB70l8AN83d9m/PDhz9YaSxssrbGNxjEGu2stMaSUIQ2kVbhkVChKMhZkVfgM2NBQ\n01DXUAtgU8NmoNjQhEsA69H+WqDY1NAIoKENDW1oB4a2MTiRCEmZUKDYUZvT3dc4JsA2AY4JyOCT\nxiejAlLGJ6180gSk8EkRkFZ+dzuFj0NASvk4aFIE2CqIhFCATYCjNFbkOmejsSzTXYfPrRbKUWBb\nKDv88sq2wFaxfQUWKEuF7RZhe/Ss2zlmtOkXGiYmPExckMSFiwJj9YQLVnQ8vHB3raJ2IpHUEV59\nAqwjnmKCq7vtYKzBdSp62Lf7H+Ata+ciIKHvjbxvvublLyNT+xKvO/stTOVSON/xX8IfqDDWiKCY\nPA5MUIxCa92Nz4gHgq+vr1MqlYaExvUGaGutWVtb6xMZncBwrXWi0JiZmTlyVo2j9kB6M7Fjl6vV\nKjhOostV9sRJmpnckc9yZYwJhdbjF4aFRuUqzM7BwhJv+dRn+V5qvHfVopKaptze4N/OaD668BTO\n/uxdyS4QSe4R+/a2d7s3u3t/2+tYCr/djj4/ycVjP9/2jni42+Pb3lFtynaw7BQqlcJy0ignheWk\nemvbwbKd7tqKHkiV5WBZFsqysVX4YBkYg280gTG0Teiq1jbQii1NA02jaESWlbqJFq2oAXVj4WMR\nGIVPtBgIjKJNuPYNvUVDMLQftyD1RBv0XN1SFj33uLhbXHebke0pi25sUGYgRqjjItdxmXNUb78X\nJ9Rb7G7cUGgJ6sUJhZYii9C6Mxwn1FvDFpYiowE/XHctQ1tbgoasPYOWImVhGLYEdV3elDOcaGHA\nopR03cH91//8z3C3m+26U4qgmAyO3t1OGHviVbif/OQnd9t936dSqXSFxuc//3mWl5dptVqJaW1z\nudyOP69UKlEqlXjSk57Ud6xer3fFRbVa5eGHH6ZarbK+vs709HSi2MjlcmNj1RD2B5VKh0HPc8fD\n/RH9tnK5Ch55EL38xJHPcqWUgsJM6Pb0jU/v/35+G65egcsX0J/4K546m+WXChD6+IdujB/54mfR\nb37V9g+5nYfoTp+Eh2CV+LbU3tEDM7YTPgFu+5Dd/+bVSuibmZpGNxoJb3hVbPtovu3dDgME13UB\n05cauLPOBppclArY6qQG7qQL7qYU7qULDlMGE2XjUqMzb8VSAyfVMTGdeYmRn5pmZW1tG7e0Ldze\nRhxra0NdG3w/HuMzfG73+oYwXiiKHWoH8Rii/nH52mAMQ0InFEVqQBSNOKYUjk0YQ2RBxtaklSFj\n6UgYGVKx2KGUpUkrjWMZUiroip+OKLI7gogBFzkVYNHGpokVJU9Qcdc49JAY6gggEgRTIfg6U7ln\nJP66CeOLCArhwHAch+PHj3P8+PG+9kaj0WfN+MpXvsLy8jKO4wwJjXK5vKssULlcjlwux8mTJ/va\ngyBgdXW1a9V4/PHHeeihh6hWqyil+oLBOwHixWLxuly2hPFnq8KC+UKBIGZhujGFBW9slivlpODk\nEpxcwr7tadSeeLgbOAlQ8wPsf/jt2L/4phs2hsMgVSjQEOtgMkphHIfgep8WjIlER39dkni9EivQ\nWK0WqWi/X6yE624tk64AsbDSGTJGx2qbDBdZ1OlhsXLYmbQCHUtSoLePCxoUMe0tjm1oQ9BOEDod\nkbWF0On/jOFxacOQ0OmzCEVCpz9hQri2leL+L/8l/6ne7kv4IIw/4vI0eRy6y9N+0Ek5O+g2Va1W\nmZ6eHkprWyqV9qVatzGGer2eGBS+sbFBsVhMtGpks9dfPVpcnsab65m//XC5GspyVSihrkMAnz93\njrf+2EuY36hiKYU2hmvTs9zxrvdx+syZPV/3KCJ/e2OEMUMFFafSGRobG33CRA0Il966J1ZMp5Bi\nZP2Q6u87Q5t4woJhMTPokjZ47PWvfTVPyTzGe172DRJDMUGIhUI4kqio2FShUODWW2/ttgdBwMrK\nSldgfPnLX2Z5eZnNzU1KpdKQ0NhtqlmlFPl8nnw+z+LiYt8x3/f7rBoXLlzgwQcfpFKp4DhOotAo\nFov7InSEyWY/XK746uPofc5ylbMtXn7bAnnHpuYH/NK19g38KQjCDlAqKlpoo6OmoFCgkdrl40xX\nmAxbTTpWkcTq7wliZTfV34esKGNY/d1SCstWpPb4vuLvnT7BF4rfzXe9/Y8op5b56Hfs7/iEw0Es\nFIeA67rvBb4fuOJ53pAjoeu6ReADwBnABt7sed77d3h5c/8DD3Bmj3UoxpV2uz1UO2N5eZkgCIZS\n2s7Pz5PZR7cRYwy1Wq0bDB4PDN/c3GRmZiZRbAyOQd6SjjdHbf6uN8vVr/yPj/O9ep33rlosp6aZ\n6wRlH7+Ns3e9GpxUaC3prG0HNabi+ajNnbA7DnX+OsIkyT1rwJ2rG4MyYC3p9DeWwlh2otVkS3eu\nMRMm586f58fuvgfr216Inc7x1z/5PBALxdgjguIQcF33ucAGcO8IQXEnUPQ8707XdeeBLwMnPM/z\nd3B586zv/yHeddcrbzpRkUStVhtKa1upVMhkMkNCo1wu73vmp3a7PbKAXyqV6hMYp06dIpvNUigU\nxKoxhozzQ2mSy9Vdv/RmPpdawPrnZ7HTOYJWHf2hX+EfVL/Ca7/t74PvQ9AO174PfjsMQu6IDLtf\nbPQESGe/16bsgWOpVK9P99z+PsoZdf3UwGd0xhO1JwRJj/PcCRMyf8agtOlZP+JWkPj+DsQKSg0J\nkW5Q+xZipdcnFCvcwPvQAw88wDt+9W1MpVL84Z//CYigGHvE5ekQ8Dzvk67r3rJFFwMUou0CsLxD\nMQGA9W0v5C2//gFe/6qfwrC1YBzUk0O9tzueeI7Z8vh+fMZ2Qrh3NEVuboHF8gKLT+mdu76xwUr0\ncP/Fr12g8pkHWV9bZ7owzWxpltnZErOzZUqzJQrThTB3+dAYth83ANkZCidnmF64lY7EM8ZQr22y\ntrrC+uoKl65W+duvP8ZKZZlWs8lUsUhhpkShWGJ6ptTdtgcC0rf7WSY17fxn1+m/Zffk+Rr62Vzn\n7+FePmOba+7pZzfQEh9Dfi20VG15/g6+2K7na99+djlI52D+FGYeHsj9LtnvuwM7HWZbs9M5+Odn\n+eyH3givfw/2wN+EMQaCAAJ/QGzEREfg97dFfUxf20CfZh0213vH2m0IfHS378DnBP5Q377xGDMk\nWtZSabRlJwuSqK+Ki6BtBFL8uBpxPQZF1KC154i/ZRb2GaWi7FcWpK4jM5cxqCgz15buXEFAqtXu\nEyKD7lyhMOl3z+oKkbgwSYpBiZ2HUn1Wkwvnz/M/vf/KH95xB1P7EH8oHA1EUBxN3g582HXdS8A0\n8PzdnGync/zlY6v8yH/7atTSf2MavE0N3reGbmPbHU88Z5vPPDKfUQqXqSfBVFjTQjc0+kJAcK6O\n1hsYY7AtG8uysG0Ly7Kx7TDl5bY/
u62HHJ0zA8xgpS308fAfeqa9SXpjg3R1nYz/OOn2Jun2BoGV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\nso5PjsE2Bgy4GQaYC3Nj7vdWS+qenr7ofqnrPn/sKqlKKqkltaSqXXo/
z1PPqKq2pKVes6V6a+3f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\
nVl82tbBcBF7kzHiOZ55YYnGhSFsqsqZJXzyh3hn1lEgkSKfTpNPp5cfKze3KIWN8fJxHH32Uqakp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\
n5fvWWi0hhpTneZq7ENP8bU97Oxy+AopFnzPjS7z0/DxPPzZLX3+CkSuTpIdaiMZ29z0VzV24af7C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\nE/
UYj2yfAkX9OKVbLV8CfhX4X8aYHwamrLU1L3cqnXQnKh764Ozs7A4OU/ZKKpVCcxdemr/w0tyF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\
nrfTcXcAkMAK8DvgpY8zPV3zu3wUeAnqAj5ce+13gYGkMVxO8+Mdaa4BXgH9grW231n6qdPyl3s16\nO0EI6iAILJf6+UVEpE50yZOISDi8B/g5a+1ZAGPMhwhWJd5det4HftdamwP+0hgD8MfW2klg0hjz\nXeA1wAOl409Zaz9T+vhPjTH/GnizMeYBgrDxE6XLjM4aY36PYCXjT0vHv2it/cPSxxngmdIN4BVj\nzH8F/sWq8Ttb/Hm/Za39KoC1NlNaGdno5xcRkTpRoBARCYch4MvGmPI7+w6AMaa7dL9grZ2qOH6R\nYGWg8n5bxf3xVV9/FBgAhoEEcK4USpzS7bmKY8cqP9EY0w/8V4LVgzaC1ZLTW/jZahlbdX/dn99a\ne/Eyv5eIiFwGBQoRkXAYB95urX149RPGmAPb+HqDq+4fJggBY8CstbZ77acsW3250n8E5oDrSjUd\nPwN8aIPj54Fk+Y4xxiW49Gqj77Huzy8iIvWlQCEiEg6fAT5mjHm3tXbcGHMQeJ219i9Lz2/1kqIh\nY8wvA3cQXM40CHzNWjtrjLnXGPMfCAq854GjQJ+19jvrfK0UwQrHnDHmMEHtRqWXgSNAedvYp4Bu\nY8wbgG8T1F9cavyX+vlFRKROVJQtItJ4ahUsfwz4G+Cbxphp4B6Cmoj1PudS9+8uff5F4P3AP7LW\nzpaeeyfQSbBL1AWCHZYObjDeDxAUak8RFFD/2arnPwJ8xBhz0RjzK9baC8CvAZ8nWBE5DZzf4OvD\npX9+ERGpE20bKyKyz5QKnH/aWvtj9R6LiIiEn1YoRERERERk2xQoRERERERk23TJk4iIiIiIbJtW\nKEREREREZNsUKEREREREZNsUKEREREREZNsUKEREREREZNsUKEREREREZNsUKEREREREZNv+fxkF\nibQu834tAAAAAElFTkSuQmCC\n",
      "text/plain": [
       "<matplotlib.figure.Figure at 0x7fc9cde82780>"
      ]
     },
     "metadata": {},
     "output_type": "display_data"
    }
   ],
   "source": [
    "temps = np.asarray(example_dataset.feature_values).ravel()\n",
    "\n",
    "plt.figure(figsize=(10, 5))\n",
    "plt.xlabel('Temperature')\n",
    "plt.ylabel('log K')\n",
    "plt.title('log K vs Temperature')\n",
    "for peak in example_dataset.peaks:\n",
    "    y = [models[peak].logkw for models in list_models]\n",
    "    #y = [run[0].retentions[peak] for run in example_dataset.paired_training_runs]\n",
    "    plt.plot(temps, y, '-o', label=peak)\n",
    "    \n",
    "plt.legend(loc='center', bbox_to_anchor=(0.5, 1.20), ncol=5)"
   ]
  },
  {
   "cell_type": "code",
   "execution_count": 58,
   "metadata": {
    "collapsed": false
   },
   "outputs": [
    {
     "data": {
      "text/plain": [
       "{'(E)-p-coumaric acid': <pychrom.models.regression.LSSRegressionModel at 0x7fc9d7eae358>,\n",
       " '4-Methoxybenzaldehyde': <pychrom.models.regression.LSSRegressionModel at 0x7fc9cde7acf8>,\n",
       " 'Scopoletin': <pychrom.models.regression.LSSRegressionModel at 0x7fc9cde7af98>,\n",
       " 'Sinapinic acid': <pychrom.models.regression.LSSRegressionModel at 0x7fc9cde7aa58>,\n",
       " 'Syringaldehyde': <pychrom.models.regression.LSSRegressionModel at 0x7fc9cde7a9b0>,\n",
       " 'Syringic acid': <pychrom.models.regression.LSSRegressionModel at 0x7fc9cde8c668>,\n",
       " 'Vanillin': <pychrom.models.regression.LSSRegressionModel at 0x7fc9cddccef0>,\n",
       " 'Veratric acid': <pychrom.models.regression.LSSRegressionModel at 0x7fc9cdd4b390>,\n",
       " 'm-Coumaric acid': <pychrom.models.regression.LSSRegressionModel at 0x7fc9cde7aef0>,\n",
       " 'o-Coumaric acid': <pychrom.models.regression.LSSRegressionModel at 0x7fc9cde90a20>,\n",
       " 'o-Vanillin': <pychrom.models.regression.LSSRegressionModel at 0x7fc9cdfc9b70>}"
      ]
     },
     "execution_count": 58,
     "metadata": {},
     "output_type": "execute_result"
    }
   ],
   "source": [
    "from pychrom.models.regression import learn_lss_models\n",
    "\n",
    "# Build regression models\n",
    "models = learn_lss_models(example_dataset.feature_labels, example_dataset.feature_values, \n",
    "                          example_dataset.peaks, list_models)\n",
    "models"
   ]
  },
  {
   "cell_type": "code",
   "execution_count": 59,
   "metadata": {
    "collapsed": false
   },
   "outputs": [
    {
     "data": {
      "text/plain": [
       "LSS(logkw=2.1878235013243126, S=1.3167121197502425)"
      ]
     },
     "execution_count": 59,
     "metadata": {},
     "output_type": "execute_result"
    }
   ],
   "source": [
    "models['Scopoletin'].predict(83)"
   ]
  },
  {
   "cell_type": "markdown",
   "metadata": {},
   "source": [
    "## Simulation of 1D Liquid Chromatography (1DLC)"
   ]
  },
  {
   "cell_type": "code",
   "execution_count": 60,
   "metadata": {
    "collapsed": false
   },
   "outputs": [
    {
     "data": {
      "text/plain": [
       "{'(E)-p-coumaric acid': (6.7879148703606571, 0.56665293262814853),\n",
       " '4-Methoxybenzaldehyde': (4.834092740064805, 0.45118370138459618),\n",
       " 'Scopoletin': (18.691855129414808, 1.4018984487072153),\n",
       " 'Sinapinic acid': (21.782680793424419, 1.4271296732891767),\n",
       " 'Syringaldehyde': (8.4239813961686796, 0.65079280171236609),\n",
       " 'Syringic acid': (6.7390151113094952, 0.57192840009302115),\n",
       " 'Vanillin': (4.0850071750867354, 0.37493677083941168),\n",
       " 'Veratric acid': (6.7271100693201316, 0.5982350418942326),\n",
       " 'm-Coumaric acid': (7.0411188535623062, 0.58729864063523629),\n",
       " 'o-Coumaric acid': (7.5088395262409957, 0.6399717543088056),\n",
       " 'o-Vanillin': (5.8090011887974091, 0.47160743077658951)}"
      ]
     },
     "execution_count": 60,
     "metadata": {},
     "output_type": "execute_result"
    }
   ],
   "source": [
    "from pychrom.sim.hplc import HPLC\n",
    "\n",
    "hplc = HPLC(models, column, controller)\n",
    "mvf = MultiValuedFunction([linear(0.31, 1.0), const(80)], labels=['phi', 'temperature'])\n",
    "sim_result = hplc.simulate(mvf, 45, 0.5, num_steps)\n",
    "sim_result"
   ]
  },
  {
   "cell_type": "code",
   "execution_count": 61,
   "metadata": {
    "collapsed": false
   },
   "outputs": [
    {
     "data": {
      "image/png": "iVBORw0KGgoAAAANSUhEUgAAA58AAAFjCAYAAAC63r83AAAABHNCSVQICAgIfAhkiAAAAAlwSFlz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\
ncsLHNs2DBw+WNq9IqVSUfyFr0qQJ2dnZhIWFERkZiWmauN1u9u3bZ3c0OUdF6XMSXNTvxA7qdxJo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\nycmG2Pii52Li6DphCiFv/
qvY21JTUy0OJiIiIiJyYSo+JWidKS4fe+wxevToQZcuXQBYt24dq1ev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\
n+d3vflfiPdOmTQPgrbfe8kvUS7Fjxw4++ugjunfvDkCVKlVwu90BzyEiIiIi1inrard/BBY4HI5w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\nWdSsWdO7RYg/
9zAtwpULESUvOOR2u6levXrhQWwcZGUCUK1aNXJyci7aRGhoKGlpabjd7iIrB1vt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\n59O/
f38qVy6c2HfixAmWLl163us+Yp+K1ucqotPT1s8bnCz1yKfT6ZwITARwOBw3A+N9KDzlcpZ9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\
nli1btnDZZZfR3NzMDTfcwCuvvOJ3aHFv6dKlAKxcudLnSISIX1JwSHjP6+SzugoCB0qiO4V1Knqn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\nJUt8jEqI+ODKmk/TNEcD04BP3GhPxA/
d2IDqbs1nrMlnfa2TZAah0jOxaz0qOFRXE7rKLri216eu\nr0OlpcfczmHyhsHew5NPtmyEcUcFPUUVFKH3Fru+hlbbNpTuhvxD9x1VSsHwkVC8AyT5FEIMEFOn\nTuWWW27h4osvBuCll15i6tSpPkc1sHzve9/jhBNOYNasWQzyYKmJEANZzMln+5TbF4CFlmUdtsDO\nNM3TgNM67luWRSAQYqRKxJ0mbNoCmaQF+Z3rtDSqmhrIyMhwEo0oVNXXkpFfiBFk3WdLbh6NTfUE\nAgGSkpJcve5a9+2mIWtwyDYbh+ahGxtIjbHPRrsVnZUdcztdNRSNRlWVkdKl3eptX5J2nklCkP6a\nRo+jdeM60l2Oxd5XQk16Jpm5h6+PrR8xhkGV+0nuh+8Zbl9zQoRDrrv+7+GHH+aJJ55g6dKlgFPt\n9rrrriM5xEybviDerrvm5mbuvfdev8MQ3Yi3ay5emaZ550F3V1iWtSKm5NM0zQScxPOPlmW9EuwY\ny7JWACsOeuhnNTUe7r0o+hS7qhKMBEL+zgclUFNWFnL6ane03YZuqKe2zUYFaV8bg7CrKqmpqSEQ\nCISOIQp6bwl2anrINu3EZNi9k9YY+7QryiEhMeZ2Dms3twA+X0vLQe3qulrs/aXUZ+cGfz0HD8Xe\ntc3V1xFAb9mEzhsWtF17aAEtWzfT3A/fM9y+5oQIh1x3/V99fT1XXHEFV111FQBtbW1UVVWRmury\n+n8Xxdt1941vfIOXX36ZOXPm+B2KCCHerrl4FAgEsCzrzq6Px7pz/e+Bzy3LejDGdkS86qlaa0oq\nNNVH13ZdHaSmO2sYg0nzrtqtrq1GdTPtVgUy0TUuFBxqqAcPpt2qkePQO7Yc+uDmz2HshNDVbAuG\nQ8kup9iSi3RJMarres+OOAuK0CW7XO1PCCH6MtM0aWxs7Lzf2NjIZZdd5mNEA89TTz3FVVddxbhx\n45g4cSITJkxg4sQQ9RCEEBGJZauVmcA8YJ1pmv8HaOB2y7KkHJs4oLEBsnJCP9+x7jOaNX11NSHX\newKd1W7dTpYAZz1nd2s+MzKhtir2fuprIW1s7O10NWwElJceUvFWb/oMNWFy6HMyMkEZUFMFmYPd\ni2XvLiexDRpnEeyR5FMIMXA0NTWRnn7gS8f09HQaGmKsjyAismnTJr9DECJuxVLt9m+ArMIW3Wts\ngPxuRj5j2euzrptKt4BKSnaSpeam6NrvTk/JZ8CdrVZ0fR2GFyOfCQkwbCTs3ArjnQJDetN6jG99\nL/Q5SrWPfha7mnzqkmKMKccFfzInF+pr0Y31znYvQggR59LS0li3bh1TpkwBYO3ataSkpPRwlnDD\n5s2bGT9+POvWrQv6fMfvRAgRPVeq3QoRUmMDdN1L8mCxVLytr+02+QSc52trYGhudH2EUlsNw0eH\nfj4jE1yZdlsHqe5utdJBjRqH3r4ZNf4odH0d7NkJYyZ0f07+cHTJLtSESe4Fsrc45MinMgynCu6e\nYhhzhHt9CiFEH3XXXXcxf/588vOdImylpaU8+uijPkc1MDz++OPcd9993HXXXYc9p5Ti+eef9yEq\nIeKLJJ/CU7qxAaOnNZ9RJp+6tgbV3bRbcKbl1nmwIL22h61W0jOgoQ7d1hZ6DWU46us8WfMJwJHH\noD96B+acj/50FRw5FZWY1P05ecOcbVFcopsanSR9SOgvB1RBEXrPTpQkn0KIOLZmzRoKCwuZNm0a\n7733Hs8++yyvv/46p512GiNGjPA7vAHhvvvuA+CFF17wORIh4lesBYeE6F5T9wWHVEoq2qNpt4CT\nIHqQfDoFh7qZ8msMcpLGWPv2MPlUk74Gmz9H19eiP16Bmn5Sz+cUDEfv3eNeEHt3Q26B83qFUlDk\nHCeEEHHstttuIzExEYB//OMfPPTQQ1x99dVkZWVx6623+hzdwLBmzRpKS0s77z///PN873vf4447\n7qCiosLHyISIH5J8Cm+FU+026uSztvuCQwDpGehaL0Y+e1jzCZDhwrrPBqeirxdUWjrquJOxH7ob\n9hajjju555PyCt0d+exmym2n/EJnaq4QQsSxtrY2srOd4nuvvvoq8+bN49xzz+XWW29l27Zt/gY3\nQBz8BcDKlSv55S9/yaWXXkogEJAvAIRwiSSfwlueJp81kN59AqjSA/5Mu4WY131quw2aGrt//WKk\nLvouatQ4jPm3oto/cLuVNwz2l6Bt250ASopR+d0nn85oqySfQoj4Zts2ra2tAHz44YfMnDmz87m2\ntja/whpQ5AsAIbwnaz6Ft/we+cxwP/nUWrePfPYw5TeQGdvIZ4Pz2oXcx9QFKpCJuvy68I9PToG0\nDKgo63adZthKimHStO6PyXdGW7Vte/paCCGEn+bOncsll1xCTk4OKSkpnHDCCQBs3bqVQKCHzxvh\nio4vABISEvjwww8714CCfAEghFsk+RTeCif5rK6MqmldV40RTrXbKpfXaTQ2QEJij8V5VEYmuqYK\nFW0/9bWeTbmNScfUWxeST723GGP2ud0eo1LSnIq/lWXO1itCCBGHFi5cyKxZsygtLeXUU091trfC\nSYjuvvtun6MbGOQLACG8J8mn8Ixua4OWFkjqZquV5FRojLKATVhrPgNQvCO69kMJZ9QTYt/r08tK\ntzFQ+YXovbtRRx0TUztaa2fks6Co54PzC51jJfkUQsSxY4899rDHxo0b50MkA5N8ASCE9yT5FN5p\nqIPUtO6nSsa65rOHJFClB7Dra6NrP5Rw1nuCc0xZac/HhewnjKJGfnBru5XKckhK6nm7HDrWfe5G\nHd3DFF0hhBAiBvIFgBDekgVUwjv1PY9MxrzVSloYI5+xVpztqrbaWc/Zk0CMBYdqqlB9MPlUeYXo\nUhe2WynZ1XOl2w5S8VYIIYQQot+T5FN4py6MbUKiHPnUra1OJdhwks86d0c+dU2VU0W3ByojE11b\nFX1HtVXO1N2+Jr/QlX039d5iVDhTbgGVLxVvhRBCCCH6O0k+hXcawliTGe2029pqSA/0XP3Ug2q3\n1FRC5uCej4t1zWdNTXgjrL0ttwDKSp2tYGJRUgw9bLPSKX+4KwmvEEIIIYTwjySfwjO6LoyCOSlp\n0FgfeeM1YY4KpmdAfa1T3MYt1ZWQld3zcTHu80ltFWT0vZFPlZTsJMVl+2Jqxxn5DDP5HJoPFWXo\nlpaY+hRCCCGEEP6R5FN4p74W5dW02DBHH1VCIiQkOcWP3FJVAYEwRj4znJHPaBNfXVOF6osjn9C+\n3UqM6z4jGPlUCQlOpdt9Lqw1FUIIIYQQvpDkU3gnnK1C0tOhoQ5t2xE1raurUOGuh8wIYFfHsPby\nsL4rUWGMfKrkZFA4a1OjUVPdJ0c+oaPoUPTTYHVLs1Ptdmh++CcVyNRbIYQQQoj+TLZaEd6pr+2x\nIJAyBjnrPhvqnFHQcIU77RYgczC6uhLSXRpFrA5zzSd0jn6Skhp5P+FW1fVD/rDYEsHSPTA0zxnR\nDJPKL0SXFKOi71UIIfoFXVmO3rDW+bzJyUVNmtbzTCIhhOgHJPkU3qmvgyG5PR+X3l4UKKLkszKi\n5NOuLIdhI8NvvzvVlZAVbvLZvu4zkhG+Dn212i3OyKe9cV30DURSbKhD/nDYuin6PoUQoo/TDfXo\nF5eiV3+AOnIqZA9Bf7EO/exvUafPRZ15CSox0e8w455uaUF/9A76o3egeDsMGgSjJ2CcdjZMOwGl\n5GtQIaIlyafwThgjn0D7Xpw1kBdB29VVMG5YWIeqrGx0ZXkEjYemW1udf1e4+28GMqOqeKvtNid5\n76lasF9i3HdT79mBKhwR0TmqYDj2ynej7lMIIfoyXVKM/dDPURMnY/z80UPW/OuyUuznfode8hOM\nf709/GUnImJ611bsx/8LcoZiXPAdGDMB2lrRGz/FfuU5WPE6xrWLUOHOgBJCHELWfArP6HAKDkFU\
n26FEVIwnKxu7yp3kk9qq9i1eBoV1uApkOVN+I+6nBtLSw+6n1w0tgPL9TjIejT27Ih+Jdml/USGE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\nKWl+h3QINSQX48e/
corDPflrdEO93yG5Tjc3YS99GP3eWxi3/Qo1vO9VjVfHHI+x4D+wn3kI+62X\nwt6CTYh4ElPyaZrmWaZpbjRNc5Npmre5FZTox774DMZNjOobXzXRSQyDfSurm5raC9YcH1N46uuz\n0H//IKJz9Mfvok44NaZ+AdRxJ6M/fjfkt872e2+4PzrYi9SpZ8GeXeg1Kzsf06V70H95CTV3njd9\nzj4XvXYVuni7J+0LIUR3tNbYq97HvnsRauIUjH/9917ZRzIaKpCF8W+/gJRU7J/fhP7iM79Dco3e\n+Cn23YugqRHjP/4LNSTX75BCUuOOxPjxfeg1n2AvuSOsSv9CxJOok0/TNA3gYeBMYBLwbdM0j3Qr\nMNE/2Z+sQE07IbqTi0bDoISgo5965bswdqIzfTUWR09zpmpuDW/Nha6pRq98F3XSnNj6BWfNaHIK\n/N/Hh/fzxToo3YM6dmbs/fhEJSZhXH0j9tLfYn/0DvrT1dgP/Aw1d55nU59UulPQw376wQG9nYAQ\nondprdHr/w/7P/8d/daLGD+4DeP8y3ttL89oqeRkjCsXYJjXYD/9AG0P343evsXvsKKmt2yk7bf3\nYP/hNxgXXoH6/r/1uVHnYNTQfIwf/QI15evY9/4I+7lHpXq7GDDC34jxcMcDX1qWtR3ANM3lwFxg\noxuBif5HF2+HjetQV98Y1flKKWfq5qvLMBbe2VkWXZfvQ7+6DOPGn8Yco0pIRJ13GfZzj2Lcdm+3\nI7TabkMv+x3qhNNinnILzr/P+NY12H94EGP0EZ2JtC7djf3U/Rjzfti/tlgJQh1xtDOl6LXl6KZG\njIu/i/r6LG/7PO1s2LIB+7e/wPj+LahApqf9CSEGJt3WBru2odd+gl79IQwahDr9QtSM0/p80tmV\nmnYixqTp6Hdfx37kHghkoY4/BTVpOhSO8GVbknBouw1270CvXY3+x9+gvs7ZUub7/9ZnR5xDUcYg\n1JkXoWfOQb/5IvY9t8CIMaivnej8HnIL+uzvQYhYqGgXnpumeQlwpmVZ/9J+/wrgeMuyeso8dPHW\nrgVCQsQQMrZQx4c63KV2gj0Rqu1I2uiuHS//rW69Xq2t6O1b0C88jZo7D+Ok2SHO75lubcH+z9tR\n2UNh+gyoLEe//SrqjLkY35wbdbuBQICamhqnD63Rv38AXbwNdcZFqFHjIDUNEhKhpQUa6mDPTuz/\nfQ2UgbHwZ64WjrDffhX9+vOoqcdBSwt6/T9RF12JcepZrvUx0Oi2NvRLS9F/exv19ZNRR05xqiKn\nZUBSEiQmO8WmDhb0Qz2aD/rg/18EMjKoqa096LBw3mvDfD8O923bjz7Dbi+M4/zoM9z2XP0duNdn\nRkY6tTW1PR8YboNhH+by78DNojjhtmXb0NTgVFVvrEfX10H5Pthfii7dDTu2QnYOavLXnb07xx8V\nF8mBtttg/Ronqf7sn85rUDjKWTOZPRQys1GZgyE11XkvTUp23lcTEp23TGWQkRGgtr4OUM57q6EO\n/KxtsPWh/9Ud99t/7vxvGzQ1Qn0dNNSjG+qgYr+zFdu+EtjxlRPP5OnO7+CIo/td4h+KbmmGtauc\n5Ufr/+m8JsNHoYaNgOwhzr87azAkp7b/DtpvgwY5r7cynNe787/qoPt+/+vcd/DfdaJvGj56DAS5\n+jxPPk3TPA04reO+ZVk/23lRkKmFkb6Bhzo+ZDuhjg/VTATthIwlRBOhO43s8ZDNR9KOC7EbBoOG\njyL5zAtJdGEzbd3YQNNbL9G25QtUZhZJJ59OwsQpMbWZlJREc3PzgT5sm5ZV79P8wV+xi7ejGxug\npRmSklGpaRh5hSSeeCpJs05HJcQyQSC4tt07aF2/BhISSDzmOIxYpxMLANr27qZl5Xu0bvoMe1+J\n88djc5MzJben97quz2sd/v97bv4B6nqfYRwXdpcu9uk06FpTrvYZyXG93mf3xyjVfin78bq5nIiF\nfb258LoBYChnymZqGiotHZWWjjEkDyO3ACNvGIPGTMDICIQXUz+ltUZXVdC2cyv2zq3YFWXYVeXo\nynJ0QwO0NDk1GJqboLWlPYk8cNPadr6H6EwwNRgGKANlqM6fnQS147+DnN+1Mjp/ByotHTp+Bzm5\nB/0OjsDIiP/ZLVprdEUZbTu+oq14u1PQqrIMXVWBbmqEpiZ0cyO6sRHaWp2T7ANJvT44yY/XokaK\nCL6gFH4Y8fJHmKZ510EPrbAsa0UsyeeJwJ2WZZ3Vfv/HgLYs61c9nKp375bF1aJ3yTdkorfJNSf8\nINed8INcd6K3yTXX9xUWFkKQb/5iGdJZDYw3TXMUsAe4HPh2DO0JIYQQQgghhIhTUVe7tSyrDbge\n+AuwHlhuWdbhO8wLIYQQQgghhBjwYlrMZlnWm8BEl2IRQgghhBBCCBGnoh75FEIIIYQQQgghwiXJ\npxBCCCGEEEIIz0nyKYQQQgghhBDCc5J8CiGEEEIIIYTwnCSfQgghhBBCCCE8J8mnEEIIIYQQQgjP\nKa11b/fZ6x0KIYQQQgghhOhVqusDvT7yaZrmXe2ByE1uvXaT605uvX2Ta05uftzkupObHze57uTW\n2ze55vrN7TAy7VYIIYQQQgghhOck+RRCCCGEEEII4Tk/ks8VPvQpxAq/AxADzgq/AxAD0gq/AxAD\n0gq/AxADzgq/AxDR8aPgkBBCCCGEEEKIAUam3QohhBBCCCGE8Jwkn0IIIYQQQgghPCfJpxBCCCGE\nEEIIzyX0VkemaZ4FPICT8D5lWdaveqtvMXCZprkNqAJsoMWyrOP9jUjEI9M0nwLOA/ZaljW1/bFs\n4H+AUcA2wLQsq8q3IEXcCXHd/Qy4DihtP+x2y7Le9ClEEWdM0ywClgL5OJ+rT1iW9Rt5vxNeCnLd\nPW5Z1kPyftc/9crIp2maBvAwcCYwCfi2aZpH9kbfYsCzgdMsy/qaJJ7CQ0/jvL8d7MfA25ZlTQT+\nF/j3Xo9KxLtg1x3AEsuyprff5A8x4aZWYJFlWZOAGcCC9r/n5P1OeKnrdXf9QXmEvN/1M7017fZ4\n4EvLsrZbltUCLAfm9lLfYmBTyPRy4THLsj4EKro8PBd4pv3nZ4ALezUoEfdCXHfgvO8J4TrLskos\ny1rT/nMtsAEoQt7vhIdCXHfD25+W97t+prf+KB8O7Dzo/i4OXDRCeEkDfzVNc7Vpmtf5HYwYUPIs\ny9oLzgcnkOdzPGLguN40zTWmaT5pmmaW38GI+GSa5mhgGrASyJf3O9EbDrruPml/SN7v+hkZERLx\nbqZlWdOBc3CmB83yOyAxYMmmyqI3PAKMtSxrGlACLPE5HhGHTNPMAF4AFraPRHV9f5P3O+G6INed\nvN/1Q72VfBYDIw+6X9T+mBCesixrT/t/9wEv4UwBF6I37DVNMx/ANM0CDhREEMIzlmXtsyyr4w//\nJ4Dj/IxHxB/TNBNwEoA/Wpb1SvvD8n4nPBXsupP3u/6pt5LP1cB40zRHmaaZBFwOvNpLfYsByjTN\ntPZvyTBNMx04A/jM36hEHFMcuvbkVeDq9p+vAl7peoIQLjjkumv/w7/Dxch7nnDf74HPLct68KDH\n5P1OeO2w607e7/onpXXvzIxo32rlQQ5stXJvr3QsBizTNMfgjHZqnG2FnpPrTnjBNM1lwGnAEGAv\n8DPgZeB5YASwHWfrgUq/YhTxJ8R19w2c9VA2zpYX8zvW4gkRK9M0ZwLvA+twPls1cDuwCrCQ9zvh\ngW6uu+8g73f9Tq8ln0IIIYQQQgghBi4pOCSEEEIIIYQQwnOSfAohhBBCCCGE8Jwkn0IIIYQQQggh\nPCfJpxBCCCGEEEIIz0nyKYQQQgghhBDCc5J8CiGEEEIIIYTwnCSfQgghhBBCCCE89/8BlSgB3y2C\nZKcAAAAASUVORK5CYII=\n",
      "text/plain": [
       "<matplotlib.figure.Figure at 0x7fc9cde7a2b0>"
      ]
     },
     "metadata": {},
     "output_type": "display_data"
    }
   ],
   "source": [
    "from pychrom.tools.plotting import plot_chrom\n",
    "plot_chrom(sim_result, figsize=(16, 5))"
   ]
  },
  {
   "cell_type": "code",
   "execution_count": null,
   "metadata": {
    "collapsed": true
   },
   "outputs": [],
   "source": []
  }
 ],
 "metadata": {
  "kernelspec": {
   "display_name": "Python 3",
   "language": "python",
   "name": "python3"
  },
  "language_info": {
   "codemirror_mode": {
    "name": "ipython",
    "version": 3
   },
   "file_extension": ".py",
   "mimetype": "text/x-python",
   "name": "python",
   "nbconvert_exporter": "python",
   "pygments_lexer": "ipython3",
   "version": "3.4.4"
  }
 },
 "nbformat": 4,
 "nbformat_minor": 0
}
